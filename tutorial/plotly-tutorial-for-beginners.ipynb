{
 "cells": [
  {
   "cell_type": "markdown",
   "metadata": {
    "_cell_guid": "a67c3ce8-7a21-4dd4-a774-6cab3a074365",
    "_uuid": "d361a5370cf8a36c8fe8445d001e9caf35d6700d"
   },
   "source": [
    "# INTRODUCTION\n",
    "* In this kernel, we will learn how to use plotly library.\n",
    "    * Plotly library: Plotly's Python graphing library makes interactive, publication-quality graphs online. Examples of how to make line plots, scatter plots, area charts, bar charts, error bars, box plots, histograms, heatmaps, subplots, multiple-axes, polar charts, and bubble charts.\n",
    "\n",
    "<br>Content:\n",
    "1. [Loading Data and Explanation of Features](#1)\n",
    "1. [Line Charts](#2)\n",
    "1. [Scatter Charts](#3)\n",
    "1. [Bar Charts](#4)\n",
    "1. [Pie Charts](#5)\n",
    "1. [Bubble Charts](#6)\n",
    "1. [Histogram](#7)\n",
    "1. [Word Cloud](#8)\n",
    "1. [Box Plot](#9)\n",
    "1. [Scatter Plot Matrix](#10)\n",
    "1. Map Plots: https://www.kaggle.com/kanncaa1/time-series-prediction-with-eda-of-world-war-2\n",
    "1. Data Visualization\n",
    "    1. Seaborn: https://www.kaggle.com/kanncaa1/seaborn-for-beginners\n",
    "    1. Bokeh 1: https://www.kaggle.com/kanncaa1/interactive-bokeh-tutorial-part-1\n",
    "    1. Bokeh 2: https://www.kaggle.com/kanncaa1/interactive-bokeh-tutorial-part-\n",
    "    1. Rare Visualization: https://www.kaggle.com/kanncaa1/rare-visualization-tools\n",
    "1. [Inset Plots](#11)\n",
    "1. [3D Scatter Plot with Colorscaling](#12)\n",
    "1. [Multiple Subplots](#13)\n",
    "1. Earthquake Animation: https://www.kaggle.com/kanncaa1/earthquake-animation-with-plotly\n",
    "\n"
   ]
  },
  {
   "cell_type": "code",
   "execution_count": null,
   "metadata": {
    "_cell_guid": "b1076dfc-b9ad-4769-8c92-a6c4dae69d19",
    "_kg_hide-input": true,
    "_kg_hide-output": false,
    "_uuid": "8f2839f25d086af736a60e9eeb907d3b93b6e0e5"
   },
   "outputs": [],
   "source": [
    "\n",
    "# This Python 3 environment comes with many helpful analytics libraries installed\n",
    "# It is defined by the kaggle/python docker image: https://github.com/kaggle/docker-python\n",
    "# For example, here's several helpful packages to load in \n",
    "\n",
    "import numpy as np # linear algebra\n",
    "import pandas as pd # data processing, CSV file I/O (e.g. pd.read_csv)\n",
    "\n",
    "# plotly\n",
    "import plotly.plotly as py\n",
    "from plotly.offline import init_notebook_mode, iplot\n",
    "init_notebook_mode(connected=True)\n",
    "import plotly.graph_objs as go\n",
    "\n",
    "# word cloud library\n",
    "from wordcloud import WordCloud\n",
    "\n",
    "# matplotlib\n",
    "import matplotlib.pyplot as plt\n",
    "# Input data files are available in the \"../input/\" directory.\n",
    "# For example, running this (by clicking run or pressing Shift+Enter) will list the files in the input directory\n",
    "\n",
    "import os\n",
    "print(os.listdir(\"../input\"))\n",
    "\n",
    "# Any results you write to the current directory are saved as output."
   ]
  },
  {
   "cell_type": "markdown",
   "metadata": {
    "_cell_guid": "cd9ba55f-8030-438e-824c-608dc9cd1ebf",
    "_uuid": "15f98cf2c7db5fbb4c91b014e8e76f2207e39e44"
   },
   "source": [
    "<a id=\"1\"></a> <br>\n",
    "# Loading Data and Explanation of Features\n",
    "<font color='red'>\n",
    "* timesData includes 14 features that are:\n",
    "    <font color='black'>\n",
    "    * world_rank             \n",
    "    * university_name       \n",
    "    * country               \n",
    "    * teaching                \n",
    "    * international            \n",
    "    * research                 \n",
    "    * citations                \n",
    "    * income                   \n",
    "    * total_score              \n",
    "    * num_students             \n",
    "    * student_staff_ratio      \n",
    "    * international_students   \n",
    "    * female_male_ratio        \n",
    "    * year "
   ]
  },
  {
   "cell_type": "code",
   "execution_count": null,
   "metadata": {
    "_cell_guid": "79c7e3d0-c299-4dcb-8224-4455121ee9b0",
    "_uuid": "d629ff2d2480ee46fbb7e2d37f6b5fab8052498a",
    "collapsed": true,
    "scrolled": true
   },
   "outputs": [],
   "source": [
    "# Load data that we will use.\n",
    "timesData = pd.read_csv(\"../input/timesData.csv\")"
   ]
  },
  {
   "cell_type": "code",
   "execution_count": null,
   "metadata": {
    "_cell_guid": "0ffc5e26-97d3-4477-8c36-d987a1ff0cb8",
    "_uuid": "28e742b608e663425246b7322c3cff5bf7ac0464"
   },
   "outputs": [],
   "source": [
    "# information about timesData\n",
    "timesData.info()"
   ]
  },
  {
   "cell_type": "code",
   "execution_count": null,
   "metadata": {
    "_cell_guid": "db6a7739-9157-4f6f-80a7-2e8a8add9651",
    "_uuid": "c8208716fca06ddc8a814fa79e70aa19f56fe50e"
   },
   "outputs": [],
   "source": [
    "timesData.head(10)"
   ]
  },
  {
   "cell_type": "markdown",
   "metadata": {
    "_cell_guid": "a6a4cbfe-00d0-405d-b0ed-b7c2bafabce2",
    "_uuid": "f9fd9183b43248f5afb83f4a228f092b8ea78b75"
   },
   "source": [
    "<a id=\"2\"></a> <br>\n",
    "# Line Charts\n",
    "<font color='red'>\n",
    "Line Charts Example: Citation and Teaching vs World Rank of Top 100 Universities\n",
    "<font color='black'>\n",
    "* Import graph_objs as *go*\n",
    "* Creating traces\n",
    "    * x = x axis\n",
    "    * y = y axis\n",
    "    * mode = type of plot like marker, line or line + markers\n",
    "    * name = name of the plots\n",
    "    * marker = marker is used with dictionary. \n",
    "        * color = color of lines. It takes RGB (red, green, blue) and opacity (alpha)\n",
    "    * text = The hover text (hover is curser)\n",
    "* data = is a list that we add traces into it\n",
    "* layout = it is dictionary.\n",
    "    * title = title of layout\n",
    "    * x axis = it is dictionary\n",
    "        * title = label of x axis\n",
    "        * ticklen = length of x axis ticks\n",
    "        * zeroline = showing zero line or not\n",
    "* fig = it includes data and layout\n",
    "* iplot() = plots the figure(fig) that is created by data and layout"
   ]
  },
  {
   "cell_type": "code",
   "execution_count": null,
   "metadata": {
    "_cell_guid": "0c3c38d5-e821-454f-9d7b-c7d80958bc3e",
    "_uuid": "86d71e729cbdc53a7dc31d25072baee7c316eabb"
   },
   "outputs": [],
   "source": [
    "# prepare data frame\n",
    "df = timesData.iloc[:100,:]\n",
    "\n",
    "# import graph objects as \"go\"\n",
    "import plotly.graph_objs as go\n",
    "\n",
    "# Creating trace1\n",
    "trace1 = go.Scatter(\n",
    "                    x = df.world_rank,\n",
    "                    y = df.citations,\n",
    "                    mode = \"lines\",\n",
    "                    name = \"citations\",\n",
    "                    marker = dict(color = 'rgba(16, 112, 2, 0.8)'),\n",
    "                    text= df.university_name)\n",
    "# Creating trace2\n",
    "trace2 = go.Scatter(\n",
    "                    x = df.world_rank,\n",
    "                    y = df.teaching,\n",
    "                    mode = \"lines+markers\",\n",
    "                    name = \"teaching\",\n",
    "                    marker = dict(color = 'rgba(80, 26, 80, 0.8)'),\n",
    "                    text= df.university_name)\n",
    "data = [trace1, trace2]\n",
    "layout = dict(title = 'Citation and Teaching vs World Rank of Top 100 Universities',\n",
    "              xaxis= dict(title= 'World Rank',ticklen= 5,zeroline= False)\n",
    "             )\n",
    "fig = dict(data = data, layout = layout)\n",
    "iplot(fig)"
   ]
  },
  {
   "cell_type": "markdown",
   "metadata": {
    "_cell_guid": "21cc3c44-74bd-4fd8-949a-98fca46c7477",
    "_uuid": "f5cb166fcca19b58da80e215a8755be48ecb05b0"
   },
   "source": [
    "<a id=\"3\"></a> <br>\n",
    "# Scatter\n",
    "<font color='red'>\n",
    "Scatter Example: Citation vs world rank of top 100 universities with 2014, 2015 and 2016 years\n",
    "<font color='black'>\n",
    "* Import graph_objs as *go*\n",
    "* Creating traces\n",
    "    * x = x axis\n",
    "    * y = y axis\n",
    "    * mode = type of plot like marker, line or line + markers\n",
    "    * name = name of the plots\n",
    "    * marker = marker is used with dictionary. \n",
    "        * color = color of lines. It takes RGB (red, green, blue) and opacity (alpha)\n",
    "    * text = The hover text (hover is curser)\n",
    "* data = is a list that we add traces into it\n",
    "* layout = it is dictionary.\n",
    "    * title = title of layout\n",
    "    * x axis = it is dictionary\n",
    "        * title = label of x axis\n",
    "        * ticklen = length of x axis ticks\n",
    "        * zeroline = showing zero line or not\n",
    "    * y axis = it is dictionary and same with x axis\n",
    "* fig = it includes data and layout\n",
    "* iplot() = plots the figure(fig) that is created by data and layout"
   ]
  },
  {
   "cell_type": "code",
   "execution_count": null,
   "metadata": {
    "_cell_guid": "e3fab334-cd3f-4d32-9e57-85e8df7f5b00",
    "_uuid": "9b9fc2bfade60bf5e7bab921a8bacd854f603813"
   },
   "outputs": [],
   "source": [
    "# prepare data frames\n",
    "df2014 = timesData[timesData.year == 2014].iloc[:100,:]\n",
    "df2015 = timesData[timesData.year == 2015].iloc[:100,:]\n",
    "df2016 = timesData[timesData.year == 2016].iloc[:100,:]\n",
    "# import graph objects as \"go\"\n",
    "import plotly.graph_objs as go\n",
    "# creating trace1\n",
    "trace1 =go.Scatter(\n",
    "                    x = df2014.world_rank,\n",
    "                    y = df2014.citations,\n",
    "                    mode = \"markers\",\n",
    "                    name = \"2014\",\n",
    "                    marker = dict(color = 'rgba(255, 128, 255, 0.8)'),\n",
    "                    text= df2014.university_name)\n",
    "# creating trace2\n",
    "trace2 =go.Scatter(\n",
    "                    x = df2015.world_rank,\n",
    "                    y = df2015.citations,\n",
    "                    mode = \"markers\",\n",
    "                    name = \"2015\",\n",
    "                    marker = dict(color = 'rgba(255, 128, 2, 0.8)'),\n",
    "                    text= df2015.university_name)\n",
    "# creating trace3\n",
    "trace3 =go.Scatter(\n",
    "                    x = df2016.world_rank,\n",
    "                    y = df2016.citations,\n",
    "                    mode = \"markers\",\n",
    "                    name = \"2016\",\n",
    "                    marker = dict(color = 'rgba(0, 255, 200, 0.8)'),\n",
    "                    text= df2016.university_name)\n",
    "data = [trace1, trace2, trace3]\n",
    "layout = dict(title = 'Citation vs world rank of top 100 universities with 2014, 2015 and 2016 years',\n",
    "              xaxis= dict(title= 'World Rank',ticklen= 5,zeroline= False),\n",
    "              yaxis= dict(title= 'Citation',ticklen= 5,zeroline= False)\n",
    "             )\n",
    "fig = dict(data = data, layout = layout)\n",
    "iplot(fig)"
   ]
  },
  {
   "cell_type": "markdown",
   "metadata": {
    "_cell_guid": "8a4f89d0-3a72-479e-bb34-a75b0d043273",
    "_uuid": "1e34c2982b7b3c20f8510bb74ef83b8e54e24696"
   },
   "source": [
    "<a id=\"4\"></a> <br>\n",
    "# Bar Charts\n",
    "<font color='red'>\n",
    "First Bar Charts Example: citations and teaching of top 3 universities in 2014 (style1)\n",
    "<font color='black'>\n",
    "* Import graph_objs as *go*\n",
    "* Creating traces\n",
    "    * x = x axis\n",
    "    * y = y axis\n",
    "    * mode = type of plot like marker, line or line + markers\n",
    "    * name = name of the plots\n",
    "    * marker = marker is used with dictionary. \n",
    "        * color = color of lines. It takes RGB (red, green, blue) and opacity (alpha)\n",
    "        * line = It is dictionary. line between bars\n",
    "            * color = line color around bars\n",
    "    * text = The hover text (hover is curser)\n",
    "* data = is a list that we add traces into it\n",
    "* layout = it is dictionary.\n",
    "    * barmode = bar mode of bars like grouped\n",
    "* fig = it includes data and layout\n",
    "* iplot() = plots the figure(fig) that is created by data and layout"
   ]
  },
  {
   "cell_type": "code",
   "execution_count": null,
   "metadata": {
    "_uuid": "7012b84ecfd4c126857640b184c3cfac539cc6ae"
   },
   "outputs": [],
   "source": [
    "# prepare data frames\n",
    "df2014 = timesData[timesData.year == 2014].iloc[:3,:]\n",
    "df2014"
   ]
  },
  {
   "cell_type": "code",
   "execution_count": null,
   "metadata": {
    "_cell_guid": "f1023615-979a-41e1-87d3-111b243d4008",
    "_uuid": "7cab7ea3a8ec399efd6cd09148b79ae1d6c5b472"
   },
   "outputs": [],
   "source": [
    "# prepare data frames\n",
    "df2014 = timesData[timesData.year == 2014].iloc[:3,:]\n",
    "# import graph objects as \"go\"\n",
    "import plotly.graph_objs as go\n",
    "# create trace1 \n",
    "trace1 = go.Bar(\n",
    "                x = df2014.university_name,\n",
    "                y = df2014.citations,\n",
    "                name = \"citations\",\n",
    "                marker = dict(color = 'rgba(255, 174, 255, 0.5)',\n",
    "                             line=dict(color='rgb(0,0,0)',width=1.5)),\n",
    "                text = df2014.country)\n",
    "# create trace2 \n",
    "trace2 = go.Bar(\n",
    "                x = df2014.university_name,\n",
    "                y = df2014.teaching,\n",
    "                name = \"teaching\",\n",
    "                marker = dict(color = 'rgba(255, 255, 128, 0.5)',\n",
    "                              line=dict(color='rgb(0,0,0)',width=1.5)),\n",
    "                text = df2014.country)\n",
    "data = [trace1, trace2]\n",
    "layout = go.Layout(barmode = \"group\")\n",
    "fig = go.Figure(data = data, layout = layout)\n",
    "iplot(fig)"
   ]
  },
  {
   "cell_type": "markdown",
   "metadata": {
    "_cell_guid": "cdc609d8-b16a-46cd-a07c-2ee3709109c6",
    "_uuid": "de3cf7293f5de54703b46faa9446aa42863de14b"
   },
   "source": [
    "<font color='red'>\n",
    "Second Bar Charts Example: citations and teaching of top 3 universities in 2014 (style2)\n",
    "<br> Actually, if you change only the barmode from *group* to *relative* in previous example, you achieve what we did here. However, for diversity I use different syntaxes. \n",
    "<font color='black'>\n",
    "* Import graph_objs as *go*\n",
    "* Creating traces\n",
    "    * x = x axis\n",
    "    * y = y axis\n",
    "    * name = name of the plots\n",
    "    * type = type of plot like bar plot\n",
    "* data = is a list that we add traces into it\n",
    "* layout = it is dictionary.\n",
    "    * xaxis = label of x axis\n",
    "    * barmode = bar mode of bars like grouped( previous example) or relative\n",
    "    * title = title of layout\n",
    "* fig = it includes data and layout\n",
    "* iplot() = plots the figure(fig) that is created by data and layout"
   ]
  },
  {
   "cell_type": "code",
   "execution_count": null,
   "metadata": {
    "_cell_guid": "8d27bdc1-3d0a-4ba2-8fe0-a7d906eb8f46",
    "_uuid": "77484a445dbeffc57e4e2b47b560e737ae030afc"
   },
   "outputs": [],
   "source": [
    "# prepare data frames\n",
    "df2014 = timesData[timesData.year == 2014].iloc[:3,:]\n",
    "# import graph objects as \"go\"\n",
    "import plotly.graph_objs as go\n",
    "\n",
    "x = df2014.university_name\n",
    "\n",
    "trace1 = {\n",
    "  'x': x,\n",
    "  'y': df2014.citations,\n",
    "  'name': 'citation',\n",
    "  'type': 'bar'\n",
    "};\n",
    "trace2 = {\n",
    "  'x': x,\n",
    "  'y': df2014.teaching,\n",
    "  'name': 'teaching',\n",
    "  'type': 'bar'\n",
    "};\n",
    "data = [trace1, trace2];\n",
    "layout = {\n",
    "  'xaxis': {'title': 'Top 3 universities'},\n",
    "  'barmode': 'relative',\n",
    "  'title': 'citations and teaching of top 3 universities in 2014'\n",
    "};\n",
    "fig = go.Figure(data = data, layout = layout)\n",
    "iplot(fig)"
   ]
  },
  {
   "cell_type": "markdown",
   "metadata": {
    "_cell_guid": "42b67b58-22d3-4abb-b290-986aa0bd436f",
    "_uuid": "800733ebba95646a11e5b76a23b0953ab4bb558f"
   },
   "source": [
    "<font color='red'>\n",
    "Third Bar Charts Example: Horizontal bar charts.  (style3) Citation vs income for universities\n",
    "<font color='black'>\n",
    "* Import graph_objs as *go* and importing tools\n",
    "    *  Tools: used for subplots\n",
    "* Creating trace1 \n",
    "    * bar: bar plot\n",
    "        * x = x axis \n",
    "        * y = y axis\n",
    "        * marker\n",
    "            * color: color of bars\n",
    "            * line: bar line color and width\n",
    "        * name: name of bar\n",
    "        * orientation: orientation like horizontal \n",
    "   * creating trace2\n",
    "       * scatter: scatter plot\n",
    "           * x = x axis \n",
    "            * y = y axis\n",
    "            * mode: scatter type line line + markers or only markers\n",
    "            * line: properties of line\n",
    "                * color: color of line\n",
    "            * name: name of scatter plot\n",
    "    * layout: axis, legend, margin, paper and plot properties\n",
    "        * "
   ]
  },
  {
   "cell_type": "code",
   "execution_count": null,
   "metadata": {
    "_cell_guid": "09f978e9-a395-48e8-babe-c9f1bf874af6",
    "_uuid": "a466a50e9e20c5cc0acaa2930967698466142aaa"
   },
   "outputs": [],
   "source": [
    "# import graph objects as \"go\" and import tools\n",
    "import plotly.graph_objs as go\n",
    "from plotly import tools\n",
    "import matplotlib.pyplot as plt\n",
    "# prepare data frames\n",
    "df2016 = timesData[timesData.year == 2016].iloc[:7,:]\n",
    "\n",
    "y_saving = [each for each in df2016.research]\n",
    "y_net_worth  = [float(each) for each in df2016.income]\n",
    "x_saving = [each for each in df2016.university_name]\n",
    "x_net_worth  = [each for each in df2016.university_name]\n",
    "trace0 = go.Bar(\n",
    "                x=y_saving,\n",
    "                y=x_saving,\n",
    "                marker=dict(color='rgba(171, 50, 96, 0.6)',line=dict(color='rgba(171, 50, 96, 1.0)',width=1)),\n",
    "                name='research',\n",
    "                orientation='h',\n",
    ")\n",
    "trace1 = go.Scatter(\n",
    "                x=y_net_worth,\n",
    "                y=x_net_worth,\n",
    "                mode='lines+markers',\n",
    "                line=dict(color='rgb(63, 72, 204)'),\n",
    "                name='income',\n",
    ")\n",
    "layout = dict(\n",
    "                title='Citations and income',\n",
    "                yaxis=dict(showticklabels=True,domain=[0, 0.85]),\n",
    "                yaxis2=dict(showline=True,showticklabels=False,linecolor='rgba(102, 102, 102, 0.8)',linewidth=2,domain=[0, 0.85]),\n",
    "                xaxis=dict(zeroline=False,showline=False,showticklabels=True,showgrid=True,domain=[0, 0.42]),\n",
    "                xaxis2=dict(zeroline=False,showline=False,showticklabels=True,showgrid=True,domain=[0.47, 1],side='top',dtick=25),\n",
    "                legend=dict(x=0.029,y=1.038,font=dict(size=10) ),\n",
    "                margin=dict(l=200, r=20,t=70,b=70),\n",
    "                paper_bgcolor='rgb(248, 248, 255)',\n",
    "                plot_bgcolor='rgb(248, 248, 255)',\n",
    ")\n",
    "annotations = []\n",
    "y_s = np.round(y_saving, decimals=2)\n",
    "y_nw = np.rint(y_net_worth)\n",
    "# Adding labels\n",
    "for ydn, yd, xd in zip(y_nw, y_s, x_saving):\n",
    "    # labeling the scatter savings\n",
    "    annotations.append(dict(xref='x2', yref='y2', y=xd, x=ydn - 4,text='{:,}'.format(ydn),font=dict(family='Arial', size=12,color='rgb(63, 72, 204)'),showarrow=False))\n",
    "    # labeling the bar net worth\n",
    "    annotations.append(dict(xref='x1', yref='y1', y=xd, x=yd + 3,text=str(yd),font=dict(family='Arial', size=12,color='rgb(171, 50, 96)'),showarrow=False))\n",
    "\n",
    "layout['annotations'] = annotations\n",
    "\n",
    "# Creating two subplots\n",
    "fig = tools.make_subplots(rows=1, cols=2, specs=[[{}, {}]], shared_xaxes=True,\n",
    "                          shared_yaxes=False, vertical_spacing=0.001)\n",
    "\n",
    "fig.append_trace(trace0, 1, 1)\n",
    "fig.append_trace(trace1, 1, 2)\n",
    "\n",
    "fig['layout'].update(layout)\n",
    "iplot(fig)"
   ]
  },
  {
   "cell_type": "markdown",
   "metadata": {
    "_cell_guid": "2a37e2f1-1944-4925-9d63-54b07c5f437e",
    "_uuid": "6fbae9f3e6895c5e81511909c9691010bdab19b6"
   },
   "source": [
    "<a id=\"5\"></a> <br>\n",
    "# Pie Charts\n",
    "<font color='red'>\n",
    "Pie Charts Example: Students rate of top 7 universities in 2016\n",
    "<font color='black'>\n",
    "* fig: create figures\n",
    "    * data: plot type\n",
    "        * values: values of plot\n",
    "        * labels: labels of plot\n",
    "        * name: name of plots\n",
    "        * hoverinfo: information in hover\n",
    "        * hole: hole width\n",
    "        * type: plot type like pie\n",
    "    * layout: layout of plot\n",
    "        * title: title of layout\n",
    "        * annotations: font, showarrow, text, x, y"
   ]
  },
  {
   "cell_type": "code",
   "execution_count": null,
   "metadata": {
    "_cell_guid": "3f812ce0-af65-4a58-ac6d-8d9eb8ebd172",
    "_uuid": "9be9ad69552149480ed9835b7206325f7b59053f"
   },
   "outputs": [],
   "source": [
    "# data preparation\n",
    "df2016 = timesData[timesData.year == 2016].iloc[:7,:]\n",
    "pie1 = df2016.num_students\n",
    "pie1_list = [float(each.replace(',', '.')) for each in df2016.num_students]  # str(2,4) => str(2.4) = > float(2.4) = 2.4\n",
    "labels = df2016.university_name\n",
    "# figure\n",
    "fig = {\n",
    "  \"data\": [\n",
    "    {\n",
    "      \"values\": pie1_list,\n",
    "      \"labels\": labels,\n",
    "      \"domain\": {\"x\": [0, .5]},\n",
    "      \"name\": \"Number Of Students Rates\",\n",
    "      \"hoverinfo\":\"label+percent+name\",\n",
    "      \"hole\": .3,\n",
    "      \"type\": \"pie\"\n",
    "    },],\n",
    "  \"layout\": {\n",
    "        \"title\":\"Universities Number of Students rates\",\n",
    "        \"annotations\": [\n",
    "            { \"font\": { \"size\": 20},\n",
    "              \"showarrow\": False,\n",
    "              \"text\": \"Number of Students\",\n",
    "                \"x\": 0.20,\n",
    "                \"y\": 1\n",
    "            },\n",
    "        ]\n",
    "    }\n",
    "}\n",
    "iplot(fig)"
   ]
  },
  {
   "cell_type": "markdown",
   "metadata": {
    "_cell_guid": "ec5e2576-e436-4b6f-afe3-9e2fe4bc8d2d",
    "_uuid": "6f15e9b30edd7abd39e08a50f12bd1f68cefaf0e"
   },
   "source": [
    "<a id=\"6\"></a> <br>\n",
    "# Bubble Charts\n",
    "<font color='red'>\n",
    "Bubble Charts Example: University world rank (first 20) vs teaching score with number of students(size) and international score (color) in 2016\n",
    "<font color='black'>\n",
    "* x = x axis\n",
    "* y = y axis\n",
    "* mode = markers(scatter)\n",
    "*  marker = marker properties\n",
    "    * color = third dimension of plot. Internaltional score\n",
    "    * size = fourth dimension of plot. Number of students\n",
    "* text: university names"
   ]
  },
  {
   "cell_type": "code",
   "execution_count": null,
   "metadata": {
    "_uuid": "be139b414dad8c46b384c792f627dd08bb59f16a"
   },
   "outputs": [],
   "source": [
    "df2016.info()"
   ]
  },
  {
   "cell_type": "code",
   "execution_count": null,
   "metadata": {
    "_cell_guid": "33562c2d-7b94-40a4-be88-939005732c06",
    "_uuid": "99e4712d554eff3eaf166d3afe60f4979f5a5598"
   },
   "outputs": [],
   "source": [
    "# data preparation\n",
    "df2016 = timesData[timesData.year == 2016].iloc[:20,:]\n",
    "num_students_size  = [float(each.replace(',', '.')) for each in df2016.num_students]\n",
    "international_color = [float(each) for each in df2016.international]\n",
    "data = [\n",
    "    {\n",
    "        'y': df2016.teaching,\n",
    "        'x': df2016.world_rank,\n",
    "        'mode': 'markers',\n",
    "        'marker': {\n",
    "            'color': international_color,\n",
    "            'size': num_students_size,\n",
    "            'showscale': True\n",
    "        },\n",
    "        \"text\" :  df2016.university_name    \n",
    "    }\n",
    "]\n",
    "iplot(data)"
   ]
  },
  {
   "cell_type": "markdown",
   "metadata": {
    "_cell_guid": "d3b9f6e3-9314-4279-a8dd-a3b0f9c64af0",
    "_uuid": "76a2d45c64d396bb39d589e6476bdb3da44e87c7"
   },
   "source": [
    "<a id=\"7\"></a> <br>\n",
    "# Histogram\n",
    "<font color='red'>\n",
    "Lets look at histogram of students-staff ratio in 2011 and 2012 years. \n",
    "    <font color='black'>\n",
    "* trace1 = first histogram\n",
    "    * x = x axis\n",
    "    * y = y axis\n",
    "    * opacity = opacity of histogram\n",
    "    * name = name of legend\n",
    "    * marker = color of histogram\n",
    "* trace2 = second histogram\n",
    "* layout = layout \n",
    "    * barmode = mode of histogram like overlay. Also you can change it with *stack*"
   ]
  },
  {
   "cell_type": "code",
   "execution_count": null,
   "metadata": {
    "_cell_guid": "52e70f08-317b-454b-9d8b-ac4fc051f4a6",
    "_uuid": "1902b1610c11976c476ed9f83febb5201551ab0b"
   },
   "outputs": [],
   "source": [
    "# prepare data\n",
    "x2011 = timesData.student_staff_ratio[timesData.year == 2011]\n",
    "x2012 = timesData.student_staff_ratio[timesData.year == 2012]\n",
    "\n",
    "trace1 = go.Histogram(\n",
    "    x=x2011,\n",
    "    opacity=0.75,\n",
    "    name = \"2011\",\n",
    "    marker=dict(color='rgba(171, 50, 96, 0.6)'))\n",
    "trace2 = go.Histogram(\n",
    "    x=x2012,\n",
    "    opacity=0.75,\n",
    "    name = \"2012\",\n",
    "    marker=dict(color='rgba(12, 50, 196, 0.6)'))\n",
    "\n",
    "data = [trace1, trace2]\n",
    "layout = go.Layout(barmode='overlay',\n",
    "                   title=' students-staff ratio in 2011 and 2012',\n",
    "                   xaxis=dict(title='students-staff ratio'),\n",
    "                   yaxis=dict( title='Count'),\n",
    ")\n",
    "fig = go.Figure(data=data, layout=layout)\n",
    "iplot(fig)"
   ]
  },
  {
   "cell_type": "markdown",
   "metadata": {
    "_cell_guid": "c72c2772-d83f-442e-98d8-3db381023fb6",
    "_uuid": "4d36543dc3d5a223d59a0f03ff0a50f9c968d39f"
   },
   "source": [
    "<a id=\"8\"></a> <br>\n",
    "# Word Cloud\n",
    "Not a pyplot but learning it is good for visualization. Lets look at which country is mentioned most in 2011.\n",
    "* WordCloud = word cloud library that I import at the beginning of kernel\n",
    "    * background_color = color of back ground\n",
    "    * generate = generates the country name list(x2011) a word cloud"
   ]
  },
  {
   "cell_type": "code",
   "execution_count": null,
   "metadata": {
    "_cell_guid": "4e70ec20-5ec1-4afa-bf70-10f540604004",
    "_uuid": "9bbbd490844157ebd50ab0115437164c2b4e97d5"
   },
   "outputs": [],
   "source": [
    "# data prepararion\n",
    "x2011 = timesData.country[timesData.year == 2011]\n",
    "plt.subplots(figsize=(8,8))\n",
    "wordcloud = WordCloud(\n",
    "                          background_color='white',\n",
    "                          width=512,\n",
    "                          height=384\n",
    "                         ).generate(\" \".join(x2011))\n",
    "plt.imshow(wordcloud)\n",
    "plt.axis('off')\n",
    "plt.savefig('graph.png')\n",
    "\n",
    "plt.show()"
   ]
  },
  {
   "cell_type": "markdown",
   "metadata": {
    "_cell_guid": "cfb4e7a4-1d6c-4002-b752-968df09a75d3",
    "_uuid": "cb6702d0af6c4619431e1dd6fe3ef1335846cd9b"
   },
   "source": [
    "<a id=\"9\"></a> <br>\n",
    "# Box Plots\n",
    "<font color='red'>\n",
    "* Box Plots\n",
    "    * Median (50th percentile) = middle value of the data set. Sort and take the data in the middle. It is also called 50% percentile that is 50% of data are less that median(50th quartile)(quartile)\n",
    "        * 25th percentile = quartile 1 (Q1) that is lower quartile\n",
    "        * 75th percentile = quartile 3 (Q3) that is higher quartile\n",
    "        * height of box = IQR = interquartile range = Q3-Q1\n",
    "        * Whiskers = 1.5 * IQR from the Q1 and Q3\n",
    "        * Outliers = being more than 1.5*IQR away from median commonly.\n",
    "        \n",
    "    <font color='black'>\n",
    "    * trace = box\n",
    "        * y = data we want to visualize with box plot \n",
    "        * marker = color"
   ]
  },
  {
   "cell_type": "code",
   "execution_count": null,
   "metadata": {
    "_cell_guid": "ba8115b7-c2a1-419d-85fe-d289a9dcd7c2",
    "_uuid": "85e765f1aec5ced7e71742ae62d6453d04cfe8a5"
   },
   "outputs": [],
   "source": [
    "# data preparation\n",
    "x2015 = timesData[timesData.year == 2015]\n",
    "\n",
    "trace0 = go.Box(\n",
    "    y=x2015.total_score,\n",
    "    name = 'total score of universities in 2015',\n",
    "    marker = dict(\n",
    "        color = 'rgb(12, 12, 140)',\n",
    "    )\n",
    ")\n",
    "trace1 = go.Box(\n",
    "    y=x2015.research,\n",
    "    name = 'research of universities in 2015',\n",
    "    marker = dict(\n",
    "        color = 'rgb(12, 128, 128)',\n",
    "    )\n",
    ")\n",
    "data = [trace0, trace1]\n",
    "iplot(data)"
   ]
  },
  {
   "cell_type": "markdown",
   "metadata": {
    "_cell_guid": "cf366f8d-320d-487d-944e-e072a0f38371",
    "_uuid": "aa8d1282329290d96c0ced756da51bf652dec96e"
   },
   "source": [
    "<a id=\"10\"></a> <br>\n",
    "# Scatter Matrix Plots\n",
    "<font color='red'>\n",
    "Scatter Matrix = it helps us to see covariance and relation between more than 2 features\n",
    "<font color='black'>\n",
    "* import figure factory as ff\n",
    "* create_scatterplotmatrix = creates scatter plot\n",
    "    * data2015 = prepared data. It includes research, international and total scores with index from 1 to 401\n",
    "    * colormap = color map of scatter plot\n",
    "    * colormap_type = color type of scatter plot\n",
    "    * height and weight"
   ]
  },
  {
   "cell_type": "code",
   "execution_count": null,
   "metadata": {
    "_cell_guid": "a1c749c1-a170-4b11-a62a-a5e48a22c0c0",
    "_uuid": "a97b9548892baf3454020d4f9204e38b1267ce85"
   },
   "outputs": [],
   "source": [
    "# import figure factory\n",
    "import plotly.figure_factory as ff\n",
    "# prepare data\n",
    "dataframe = timesData[timesData.year == 2015]\n",
    "data2015 = dataframe.loc[:,[\"research\",\"international\", \"total_score\"]]\n",
    "data2015[\"index\"] = np.arange(1,len(data2015)+1)\n",
    "# scatter matrix\n",
    "fig = ff.create_scatterplotmatrix(data2015, diag='box', index='index',colormap='Portland',\n",
    "                                  colormap_type='cat',\n",
    "                                  height=700, width=700)\n",
    "iplot(fig)"
   ]
  },
  {
   "cell_type": "markdown",
   "metadata": {
    "_uuid": "79e731b572f1f15b66b234640bdc2a975eb4b955"
   },
   "source": [
    "<a id=\"11\"></a> <br>\n",
    "# Inset Plots\n",
    "<font color='red'>\n",
    "Inset Matrix = 2 plots are in one frame\n",
    "<font color='black'>"
   ]
  },
  {
   "cell_type": "code",
   "execution_count": null,
   "metadata": {
    "_uuid": "5a7d6aa48dc7ec1301b95d602c22b0eda11405f4"
   },
   "outputs": [],
   "source": [
    "# first line plot\n",
    "trace1 = go.Scatter(\n",
    "    x=dataframe.world_rank,\n",
    "    y=dataframe.teaching,\n",
    "    name = \"teaching\",\n",
    "    marker = dict(color = 'rgba(16, 112, 2, 0.8)'),\n",
    ")\n",
    "# second line plot\n",
    "trace2 = go.Scatter(\n",
    "    x=dataframe.world_rank,\n",
    "    y=dataframe.income,\n",
    "    xaxis='x2',\n",
    "    yaxis='y2',\n",
    "    name = \"income\",\n",
    "    marker = dict(color = 'rgba(160, 112, 20, 0.8)'),\n",
    ")\n",
    "data = [trace1, trace2]\n",
    "layout = go.Layout(\n",
    "    xaxis2=dict(\n",
    "        domain=[0.6, 0.95],\n",
    "        anchor='y2',        \n",
    "    ),\n",
    "    yaxis2=dict(\n",
    "        domain=[0.6, 0.95],\n",
    "        anchor='x2',\n",
    "    ),\n",
    "    title = 'Income and Teaching vs World Rank of Universities'\n",
    "\n",
    ")\n",
    "\n",
    "fig = go.Figure(data=data, layout=layout)\n",
    "iplot(fig)\n"
   ]
  },
  {
   "cell_type": "markdown",
   "metadata": {
    "_uuid": "9e605fb5cf38d1e70d1565d2d1abbea5605c7182"
   },
   "source": [
    "<a id=\"12\"></a> <br>\n",
    "# 3D Scatter Plot with Colorscaling\n",
    "<font color='red'>\n",
    "3D Scatter: Sometimes 2D is not enough to understand data. Therefore adding one more dimension increase the intelligibility of the data. Even we will add color that is actually 4th dimension.\n",
    "<font color='black'>\n",
    "* go.Scatter3d: create 3d scatter plot\n",
    "* x,y,z: axis of plots\n",
    "* mode: market that is scatter\n",
    "* size: marker size\n",
    "* color: axis of colorscale\n",
    "* colorscale:  actually it is 4th dimension"
   ]
  },
  {
   "cell_type": "code",
   "execution_count": null,
   "metadata": {
    "_uuid": "92621456f5385967d7d8d2d54fd4bd7345d0dd3c"
   },
   "outputs": [],
   "source": [
    "# create trace 1 that is 3d scatter\n",
    "trace1 = go.Scatter3d(\n",
    "    x=dataframe.world_rank,\n",
    "    y=dataframe.research,\n",
    "    z=dataframe.citations,\n",
    "    mode='markers',\n",
    "    marker=dict(\n",
    "        size=10,\n",
    "        color='rgb(255,0,0)',                # set color to an array/list of desired values      \n",
    "    )\n",
    ")\n",
    "\n",
    "data = [trace1]\n",
    "layout = go.Layout(\n",
    "    margin=dict(\n",
    "        l=0,\n",
    "        r=0,\n",
    "        b=0,\n",
    "        t=0  \n",
    "    )\n",
    "    \n",
    ")\n",
    "fig = go.Figure(data=data, layout=layout)\n",
    "iplot(fig)"
   ]
  },
  {
   "cell_type": "markdown",
   "metadata": {
    "_uuid": "75383d6fc4ae4b6214a69b1dd511181b79c94faa"
   },
   "source": [
    "<a id=\"13\"></a> <br>\n",
    "# Multiple Subplots\n",
    "<font color='red'>\n",
    "Multiple Subplots: While comparing more than one features, multiple subplots can be useful.\n",
    "<font color='black'>\n",
    "\n"
   ]
  },
  {
   "cell_type": "code",
   "execution_count": null,
   "metadata": {
    "_uuid": "b84f7f859e87b94762938f5b542598f80bf67fd8"
   },
   "outputs": [],
   "source": [
    "trace1 = go.Scatter(\n",
    "    x=dataframe.world_rank,\n",
    "    y=dataframe.research,\n",
    "    name = \"research\"\n",
    ")\n",
    "trace2 = go.Scatter(\n",
    "    x=dataframe.world_rank,\n",
    "    y=dataframe.citations,\n",
    "    xaxis='x2',\n",
    "    yaxis='y2',\n",
    "    name = \"citations\"\n",
    ")\n",
    "trace3 = go.Scatter(\n",
    "    x=dataframe.world_rank,\n",
    "    y=dataframe.income,\n",
    "    xaxis='x3',\n",
    "    yaxis='y3',\n",
    "    name = \"income\"\n",
    ")\n",
    "trace4 = go.Scatter(\n",
    "    x=dataframe.world_rank,\n",
    "    y=dataframe.total_score,\n",
    "    xaxis='x4',\n",
    "    yaxis='y4',\n",
    "    name = \"total_score\"\n",
    ")\n",
    "data = [trace1, trace2, trace3, trace4]\n",
    "layout = go.Layout(\n",
    "    xaxis=dict(\n",
    "        domain=[0, 0.45]\n",
    "    ),\n",
    "    yaxis=dict(\n",
    "        domain=[0, 0.45]\n",
    "    ),\n",
    "    xaxis2=dict(\n",
    "        domain=[0.55, 1]\n",
    "    ),\n",
    "    xaxis3=dict(\n",
    "        domain=[0, 0.45],\n",
    "        anchor='y3'\n",
    "    ),\n",
    "    xaxis4=dict(\n",
    "        domain=[0.55, 1],\n",
    "        anchor='y4'\n",
    "    ),\n",
    "    yaxis2=dict(\n",
    "        domain=[0, 0.45],\n",
    "        anchor='x2'\n",
    "    ),\n",
    "    yaxis3=dict(\n",
    "        domain=[0.55, 1]\n",
    "    ),\n",
    "    yaxis4=dict(\n",
    "        domain=[0.55, 1],\n",
    "        anchor='x4'\n",
    "    ),\n",
    "    title = 'Research, citation, income and total score VS World Rank of Universities'\n",
    ")\n",
    "fig = go.Figure(data=data, layout=layout)\n",
    "iplot(fig)"
   ]
  },
  {
   "cell_type": "markdown",
   "metadata": {
    "_cell_guid": "db937fca-9bb9-49bb-97fe-7cfff1044850",
    "_uuid": "bfff5387dc429362a78b79e840b4df7a3d4bb168"
   },
   "source": [
    "# Conclusion\n",
    "* If you like it, thank you for you upvotes.\n",
    "* If you have any question, I will happy to hear it"
   ]
  },
  {
   "cell_type": "code",
   "execution_count": null,
   "metadata": {
    "_uuid": "5928fe02429aa925faa1caf23a6cc54d1e9e1d43",
    "collapsed": true
   },
   "outputs": [],
   "source": []
  }
 ],
 "metadata": {
  "kernelspec": {
   "display_name": "Python 3",
   "language": "python",
   "name": "python3"
  },
  "language_info": {
   "codemirror_mode": {
    "name": "ipython",
    "version": 3
   },
   "file_extension": ".py",
   "mimetype": "text/x-python",
   "name": "python",
   "nbconvert_exporter": "python",
   "pygments_lexer": "ipython3",
   "version": "3.6.8"
  }
 },
 "nbformat": 4,
 "nbformat_minor": 2
}
