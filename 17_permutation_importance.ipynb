{
 "cells": [
  {
   "cell_type": "markdown",
   "metadata": {},
   "source": [
    "# Overview \n",
    "- Permutation Importance クラスを作成する"
   ]
  },
  {
   "cell_type": "markdown",
   "metadata": {},
   "source": [
    "# Import everything I need :)"
   ]
  },
  {
   "cell_type": "code",
   "execution_count": 56,
   "metadata": {},
   "outputs": [],
   "source": [
    "import warnings\n",
    "warnings.filterwarnings('ignore')\n",
    "import numpy as np\n",
    "import pandas as pd\n",
    "import matplotlib.pyplot as plt\n",
    "from sklearn.datasets import load_boston\n",
    "from sklearn.ensemble import RandomForestRegressor\n",
    "from sklearn.model_selection import train_test_split\n",
    "from sklearn.metrics import mean_absolute_error\n",
    "import seaborn as sns"
   ]
  },
  {
   "cell_type": "markdown",
   "metadata": {},
   "source": [
    "# Preparation"
   ]
  },
  {
   "cell_type": "markdown",
   "metadata": {},
   "source": [
    "## set"
   ]
  },
  {
   "cell_type": "code",
   "execution_count": 51,
   "metadata": {},
   "outputs": [],
   "source": [
    "pd.set_option('display.max_columns', 100)"
   ]
  },
  {
   "cell_type": "markdown",
   "metadata": {},
   "source": [
    "<br>\n",
    "\n",
    "## datasets"
   ]
  },
  {
   "cell_type": "code",
   "execution_count": 52,
   "metadata": {},
   "outputs": [
    {
     "data": {
      "text/html": [
       "<div>\n",
       "<style scoped>\n",
       "    .dataframe tbody tr th:only-of-type {\n",
       "        vertical-align: middle;\n",
       "    }\n",
       "\n",
       "    .dataframe tbody tr th {\n",
       "        vertical-align: top;\n",
       "    }\n",
       "\n",
       "    .dataframe thead th {\n",
       "        text-align: right;\n",
       "    }\n",
       "</style>\n",
       "<table border=\"1\" class=\"dataframe\">\n",
       "  <thead>\n",
       "    <tr style=\"text-align: right;\">\n",
       "      <th></th>\n",
       "      <th>CRIM</th>\n",
       "      <th>ZN</th>\n",
       "      <th>INDUS</th>\n",
       "      <th>CHAS</th>\n",
       "      <th>NOX</th>\n",
       "      <th>RM</th>\n",
       "      <th>AGE</th>\n",
       "      <th>DIS</th>\n",
       "      <th>RAD</th>\n",
       "      <th>TAX</th>\n",
       "      <th>PTRATIO</th>\n",
       "      <th>B</th>\n",
       "      <th>LSTAT</th>\n",
       "    </tr>\n",
       "  </thead>\n",
       "  <tbody>\n",
       "    <tr>\n",
       "      <th>0</th>\n",
       "      <td>0.00632</td>\n",
       "      <td>18.0</td>\n",
       "      <td>2.31</td>\n",
       "      <td>0.0</td>\n",
       "      <td>0.538</td>\n",
       "      <td>6.575</td>\n",
       "      <td>65.2</td>\n",
       "      <td>4.0900</td>\n",
       "      <td>1.0</td>\n",
       "      <td>296.0</td>\n",
       "      <td>15.3</td>\n",
       "      <td>396.90</td>\n",
       "      <td>4.98</td>\n",
       "    </tr>\n",
       "    <tr>\n",
       "      <th>1</th>\n",
       "      <td>0.02731</td>\n",
       "      <td>0.0</td>\n",
       "      <td>7.07</td>\n",
       "      <td>0.0</td>\n",
       "      <td>0.469</td>\n",
       "      <td>6.421</td>\n",
       "      <td>78.9</td>\n",
       "      <td>4.9671</td>\n",
       "      <td>2.0</td>\n",
       "      <td>242.0</td>\n",
       "      <td>17.8</td>\n",
       "      <td>396.90</td>\n",
       "      <td>9.14</td>\n",
       "    </tr>\n",
       "    <tr>\n",
       "      <th>2</th>\n",
       "      <td>0.02729</td>\n",
       "      <td>0.0</td>\n",
       "      <td>7.07</td>\n",
       "      <td>0.0</td>\n",
       "      <td>0.469</td>\n",
       "      <td>7.185</td>\n",
       "      <td>61.1</td>\n",
       "      <td>4.9671</td>\n",
       "      <td>2.0</td>\n",
       "      <td>242.0</td>\n",
       "      <td>17.8</td>\n",
       "      <td>392.83</td>\n",
       "      <td>4.03</td>\n",
       "    </tr>\n",
       "    <tr>\n",
       "      <th>3</th>\n",
       "      <td>0.03237</td>\n",
       "      <td>0.0</td>\n",
       "      <td>2.18</td>\n",
       "      <td>0.0</td>\n",
       "      <td>0.458</td>\n",
       "      <td>6.998</td>\n",
       "      <td>45.8</td>\n",
       "      <td>6.0622</td>\n",
       "      <td>3.0</td>\n",
       "      <td>222.0</td>\n",
       "      <td>18.7</td>\n",
       "      <td>394.63</td>\n",
       "      <td>2.94</td>\n",
       "    </tr>\n",
       "    <tr>\n",
       "      <th>4</th>\n",
       "      <td>0.06905</td>\n",
       "      <td>0.0</td>\n",
       "      <td>2.18</td>\n",
       "      <td>0.0</td>\n",
       "      <td>0.458</td>\n",
       "      <td>7.147</td>\n",
       "      <td>54.2</td>\n",
       "      <td>6.0622</td>\n",
       "      <td>3.0</td>\n",
       "      <td>222.0</td>\n",
       "      <td>18.7</td>\n",
       "      <td>396.90</td>\n",
       "      <td>5.33</td>\n",
       "    </tr>\n",
       "  </tbody>\n",
       "</table>\n",
       "</div>"
      ],
      "text/plain": [
       "      CRIM    ZN  INDUS  CHAS    NOX     RM   AGE     DIS  RAD    TAX  \\\n",
       "0  0.00632  18.0   2.31   0.0  0.538  6.575  65.2  4.0900  1.0  296.0   \n",
       "1  0.02731   0.0   7.07   0.0  0.469  6.421  78.9  4.9671  2.0  242.0   \n",
       "2  0.02729   0.0   7.07   0.0  0.469  7.185  61.1  4.9671  2.0  242.0   \n",
       "3  0.03237   0.0   2.18   0.0  0.458  6.998  45.8  6.0622  3.0  222.0   \n",
       "4  0.06905   0.0   2.18   0.0  0.458  7.147  54.2  6.0622  3.0  222.0   \n",
       "\n",
       "   PTRATIO       B  LSTAT  \n",
       "0     15.3  396.90   4.98  \n",
       "1     17.8  396.90   9.14  \n",
       "2     17.8  392.83   4.03  \n",
       "3     18.7  394.63   2.94  \n",
       "4     18.7  396.90   5.33  "
      ]
     },
     "execution_count": 52,
     "metadata": {},
     "output_type": "execute_result"
    }
   ],
   "source": [
    "boston = load_boston()\n",
    "df_boston = pd.DataFrame(boston.data, columns=boston.feature_names)\n",
    "target = boston.target\n",
    "\n",
    "df_boston.head()"
   ]
  },
  {
   "cell_type": "markdown",
   "metadata": {},
   "source": [
    "<br>\n",
    "\n",
    "## all function"
   ]
  },
  {
   "cell_type": "code",
   "execution_count": 113,
   "metadata": {},
   "outputs": [
    {
     "name": "stdout",
     "output_type": "stream",
     "text": [
      "\n"
     ]
    },
    {
     "data": {
      "image/png": "[encoded data removed]",
      "text/plain": [
       "<Figure size 720x216 with 1 Axes>"
      ]
     },
     "metadata": {
      "needs_background": "light"
     },
     "output_type": "display_data"
    }
   ],
   "source": [
    "class permutation_importance():\n",
    "    def __init__(self, X_valid, y_valid, model, metric):\n",
    "        self.is_computed = False\n",
    "        self.n_feat = len(X_valid.columns)\n",
    "        self.base_score = metric(y_valid, model.predict(X_valid))\n",
    "        self.df_result = pd.DataFrame({'feat': X_valid.columns, \n",
    "                                       'score': np.zeros(self.n_feat),\n",
    "                                       'score_diff': np.zeros(self.n_feat)})\n",
    "    \n",
    "    def compute(self):\n",
    "        for i, col in enumerate(X_valid.columns):\n",
    "            df_perm = X_valid.copy()\n",
    "            df_perm[col] = np.random.permutation(df_perm[col])\n",
    "            y_valid_pred = model.predict(df_perm)\n",
    "            score = metric(y_valid, y_valid_pred)\n",
    "            self.df_result['score'][df_result['feat']==col] = score\n",
    "            self.df_result['score_diff'][df_result['feat']==col] = base_score - score\n",
    "        self.is_computed = True\n",
    "        \n",
    "    \n",
    "    def get_negative_feature(self):\n",
    "        assert self.is_computed!=False, 'compute メソッドが実行されていません'\n",
    "        \n",
    "    def get_positive_feature(self):\n",
    "        assert self.is_computed!=False, 'compute メソッドが実行されていません'\n",
    "        print('positive')\n",
    "    \n",
    "    def show_permutation_importance(self):\n",
    "        assert self.is_computed!=False, 'compute メソッドが実行されていません'\n",
    "        plt.figure(figsize=(10, int(0.25*self.n_feat)))\n",
    "        sns.barplot(x=\"score_diff\", y=\"feat\", data=self.df_result.sort_values(by=\"score_diff\", ascending=True))\n",
    "        plt.title('base_score - score(permutation)')\n",
    "        print('')\n",
    "        \n",
    "        \n",
    "    \n",
    "c = permutation_importance(X_valid, y_valid, model, metric)\n",
    "c.compute()\n",
    "c.get_negative_feature()\n",
    "c.show_permutation_importance()"
   ]
  },
  {
   "cell_type": "markdown",
   "metadata": {},
   "source": [
    "# Permutation Importance"
   ]
  },
  {
   "cell_type": "code",
   "execution_count": 60,
   "metadata": {},
   "outputs": [],
   "source": [
    "X = df_boston\n",
    "y = target\n",
    "X_train, X_valid, y_train, y_valid = train_test_split(X, y, test_size=0.33, random_state=42)"
   ]
  },
  {
   "cell_type": "code",
   "execution_count": 73,
   "metadata": {},
   "outputs": [
    {
     "data": {
      "text/plain": [
       "RandomForestRegressor(bootstrap=True, criterion='mse', max_depth=None,\n",
       "           max_features='auto', max_leaf_nodes=None,\n",
       "           min_impurity_decrease=0.0, min_impurity_split=None,\n",
       "           min_samples_leaf=1, min_samples_split=2,\n",
       "           min_weight_fraction_leaf=0.0, n_estimators=1, n_jobs=None,\n",
       "           oob_score=False, random_state=42, verbose=0, warm_start=False)"
      ]
     },
     "execution_count": 73,
     "metadata": {},
     "output_type": "execute_result"
    }
   ],
   "source": [
    "model = RandomForestRegressor(n_estimators=1, random_state=42)\n",
    "model.fit(X_train, y_train)"
   ]
  },
  {
   "cell_type": "code",
   "execution_count": 75,
   "metadata": {},
   "outputs": [],
   "source": [
    "metric = mean_absolute_error\n",
    "X_valid = X_valid\n",
    "y_valid = y_valid\n",
    "model = model\n",
    "\n",
    "base_score = metric(y_valid, model.predict(X_valid))\n",
    "\n",
    "df_result = pd.DataFrame({'feat': X_valid.columns, \n",
    "                          'score': np.zeros(len(X_valid.columns)),\n",
    "                          'score_diff': np.zeros(len(X_valid.columns))})\n",
    "# scores = []\n",
    "for i, col in enumerate(X_valid.columns):\n",
    "    df_perm = X_valid.copy()\n",
    "    df_perm[col] = np.random.permutation(df_perm[col])\n",
    "    y_valid_pred = model.predict(df_perm)\n",
    "    score = metric(y_valid, y_valid_pred)\n",
    "    df_result['score'][df_result['feat']==col] = score\n",
    "    df_result['score_diff'][df_result['feat']==col] = base_score - score"
   ]
  },
  {
   "cell_type": "code",
   "execution_count": 76,
   "metadata": {},
   "outputs": [
    {
     "data": {
      "text/html": [
       "<div>\n",
       "<style scoped>\n",
       "    .dataframe tbody tr th:only-of-type {\n",
       "        vertical-align: middle;\n",
       "    }\n",
       "\n",
       "    .dataframe tbody tr th {\n",
       "        vertical-align: top;\n",
       "    }\n",
       "\n",
       "    .dataframe thead th {\n",
       "        text-align: right;\n",
       "    }\n",
       "</style>\n",
       "<table border=\"1\" class=\"dataframe\">\n",
       "  <thead>\n",
       "    <tr style=\"text-align: right;\">\n",
       "      <th></th>\n",
       "      <th>feat</th>\n",
       "      <th>score</th>\n",
       "      <th>score_diff</th>\n",
       "    </tr>\n",
       "  </thead>\n",
       "  <tbody>\n",
       "    <tr>\n",
       "      <th>0</th>\n",
       "      <td>CRIM</td>\n",
       "      <td>3.694611</td>\n",
       "      <td>-0.168862</td>\n",
       "    </tr>\n",
       "    <tr>\n",
       "      <th>1</th>\n",
       "      <td>ZN</td>\n",
       "      <td>3.550299</td>\n",
       "      <td>-0.024551</td>\n",
       "    </tr>\n",
       "    <tr>\n",
       "      <th>2</th>\n",
       "      <td>INDUS</td>\n",
       "      <td>3.599401</td>\n",
       "      <td>-0.073653</td>\n",
       "    </tr>\n",
       "    <tr>\n",
       "      <th>3</th>\n",
       "      <td>CHAS</td>\n",
       "      <td>3.525749</td>\n",
       "      <td>0.000000</td>\n",
       "    </tr>\n",
       "    <tr>\n",
       "      <th>4</th>\n",
       "      <td>NOX</td>\n",
       "      <td>3.798802</td>\n",
       "      <td>-0.273054</td>\n",
       "    </tr>\n",
       "    <tr>\n",
       "      <th>5</th>\n",
       "      <td>RM</td>\n",
       "      <td>5.598802</td>\n",
       "      <td>-2.073054</td>\n",
       "    </tr>\n",
       "    <tr>\n",
       "      <th>6</th>\n",
       "      <td>AGE</td>\n",
       "      <td>3.884431</td>\n",
       "      <td>-0.358683</td>\n",
       "    </tr>\n",
       "    <tr>\n",
       "      <th>7</th>\n",
       "      <td>DIS</td>\n",
       "      <td>3.515569</td>\n",
       "      <td>0.010180</td>\n",
       "    </tr>\n",
       "    <tr>\n",
       "      <th>8</th>\n",
       "      <td>RAD</td>\n",
       "      <td>3.627545</td>\n",
       "      <td>-0.101796</td>\n",
       "    </tr>\n",
       "    <tr>\n",
       "      <th>9</th>\n",
       "      <td>TAX</td>\n",
       "      <td>3.882036</td>\n",
       "      <td>-0.356287</td>\n",
       "    </tr>\n",
       "    <tr>\n",
       "      <th>10</th>\n",
       "      <td>PTRATIO</td>\n",
       "      <td>4.113772</td>\n",
       "      <td>-0.588024</td>\n",
       "    </tr>\n",
       "    <tr>\n",
       "      <th>11</th>\n",
       "      <td>B</td>\n",
       "      <td>3.411377</td>\n",
       "      <td>0.114371</td>\n",
       "    </tr>\n",
       "    <tr>\n",
       "      <th>12</th>\n",
       "      <td>LSTAT</td>\n",
       "      <td>4.762275</td>\n",
       "      <td>-1.236527</td>\n",
       "    </tr>\n",
       "  </tbody>\n",
       "</table>\n",
       "</div>"
      ],
      "text/plain": [
       "       feat     score  score_diff\n",
       "0      CRIM  3.694611   -0.168862\n",
       "1        ZN  3.550299   -0.024551\n",
       "2     INDUS  3.599401   -0.073653\n",
       "3      CHAS  3.525749    0.000000\n",
       "4       NOX  3.798802   -0.273054\n",
       "5        RM  5.598802   -2.073054\n",
       "6       AGE  3.884431   -0.358683\n",
       "7       DIS  3.515569    0.010180\n",
       "8       RAD  3.627545   -0.101796\n",
       "9       TAX  3.882036   -0.356287\n",
       "10  PTRATIO  4.113772   -0.588024\n",
       "11        B  3.411377    0.114371\n",
       "12    LSTAT  4.762275   -1.236527"
      ]
     },
     "execution_count": 76,
     "metadata": {},
     "output_type": "execute_result"
    }
   ],
   "source": [
    "df_result"
   ]
  },
  {
   "cell_type": "code",
   "execution_count": 96,
   "metadata": {},
   "outputs": [
    {
     "data": {
      "text/plain": [
       "Text(0.5, 1.0, 'base_score - score(permutation)')"
      ]
     },
     "execution_count": 96,
     "metadata": {},
     "output_type": "execute_result"
    },
    {
     "data": {
      "image/png": "[encoded data removed]",
      "text/plain": [
       "<Figure size 720x216 with 1 Axes>"
      ]
     },
     "metadata": {
      "needs_background": "light"
     },
     "output_type": "display_data"
    }
   ],
   "source": [
    "n_feat = len(df_result)\n",
    "plt.figure(figsize=(10, int(0.25*n_feat)))\n",
    "sns.barplot(x=\"score_diff\", y=\"feat\", data=df_result.sort_values(by=\"score_diff\", ascending=True))\n",
    "plt.title('base_score - score(permutation)')"
   ]
  },
  {
   "cell_type": "code",
   "execution_count": null,
   "metadata": {},
   "outputs": [],
   "source": []
  },
  {
   "cell_type": "code",
   "execution_count": null,
   "metadata": {},
   "outputs": [],
   "source": []
  },
  {
   "cell_type": "code",
   "execution_count": 8,
   "metadata": {},
   "outputs": [
    {
     "data": {
      "image/png": "[encoded data removed]",
      "text/plain": [
       "<Figure size 432x288 with 1 Axes>"
      ]
     },
     "metadata": {
      "needs_background": "light"
     },
     "output_type": "display_data"
    }
   ],
   "source": [
    "from collections import defaultdict\n",
    "\n",
    "import numpy as np\n",
    "import pandas as pd\n",
    "from sklearn import datasets\n",
    "from sklearn.ensemble import RandomForestClassifier\n",
    "from sklearn.metrics import accuracy_score\n",
    "from sklearn.model_selection import StratifiedKFold\n",
    "from matplotlib import pyplot as plt\n",
    "\n",
    "\n",
    "def permuted(df):\n",
    "    \"\"\"特定のカラムをシャッフルしたデータフレームを返す\"\"\"\n",
    "    for column_name in df.columns:\n",
    "        permuted_df = df.copy()\n",
    "        permuted_df[column_name] = np.random.permutation(permuted_df[column_name])\n",
    "        yield column_name, permuted_df\n",
    "\n",
    "\n",
    "def pimp(clf, X, y, cv=None, eval_func=accuracy_score):\n",
    "    \"\"\"PIMP (Permutation IMPortance) を計算する\"\"\"\n",
    "    base_scores = []\n",
    "    permuted_scores = defaultdict(list)\n",
    "\n",
    "    if cv is None:\n",
    "        cv = StratifiedKFold(n_splits=5, shuffle=True, random_state=42)\n",
    "\n",
    "    for train_index, test_index in cv.split(X, y):\n",
    "        # 学習用データと検証用データに分割する\n",
    "        X_train, y_train = X.iloc[train_index], y.iloc[train_index]\n",
    "        X_test, y_test = X.iloc[test_index], y.iloc[test_index]\n",
    "\n",
    "        # 学習用データでモデルを学習する\n",
    "        clf.fit(X_train, y_train)\n",
    "\n",
    "        # まずは何もシャッフルしていないときのスコアを計算する\n",
    "        y_pred_base = clf.predict(X_test)\n",
    "        base_score = eval_func(y_test, y_pred_base)\n",
    "        base_scores.append(base_score)\n",
    "\n",
    "        # 特定のカラムをシャッフルした状態で推論したときのスコアを計算する\n",
    "        permuted_X_test_gen = permuted(X_test)\n",
    "        for column_name, permuted_X_test in permuted_X_test_gen:\n",
    "            y_pred_permuted = clf.predict(permuted_X_test)\n",
    "            permuted_score = eval_func(y_test, y_pred_permuted)\n",
    "            permuted_scores[column_name].append(permuted_score)\n",
    "\n",
    "    # 基本のスコアとシャッフルしたときのスコアを返す\n",
    "    np_base_score = np.array(base_scores)\n",
    "    dict_permuted_score = {name: np.array(scores) for name, scores in permuted_scores.items()}\n",
    "    return np_base_score, dict_permuted_score\n",
    "\n",
    "\n",
    "def score_difference_statistics(base, permuted):\n",
    "    \"\"\"シャッフルしたときのスコアに関する統計量 (平均・標準偏差) を返す\"\"\"\n",
    "    mean_base_score = base.mean()\n",
    "    for column_name, scores in permuted.items():\n",
    "        score_differences = scores - mean_base_score\n",
    "        yield column_name, score_differences.mean(), score_differences.std()\n",
    "\n",
    "\n",
    "def main():\n",
    "    # Iris データセットを読み込む\n",
    "    dataset = datasets.load_iris()\n",
    "    X = pd.DataFrame(dataset.data, columns=dataset.feature_names)\n",
    "    y = pd.Series(dataset.target)\n",
    "\n",
    "    # 計測に使うモデルを用意する\n",
    "    clf = RandomForestClassifier(n_estimators=100)\n",
    "\n",
    "    # Permutation Importance を計測する\n",
    "    base_score, permuted_scores = pimp(clf, X, y)\n",
    "\n",
    "    # 計測結果から統計量を計算する\n",
    "    diff_stats = list(score_difference_statistics(base_score, permuted_scores))\n",
    "\n",
    "    # カラム名、ベーススコアとの差、95% 信頼区間を取り出す\n",
    "    sorted_diff_stats = sorted(diff_stats, key=lambda x: x[1])\n",
    "    column_names = [name for name, _, _ in sorted_diff_stats]\n",
    "    diff_means = [diff_mean for _, diff_mean, _ in sorted_diff_stats]\n",
    "    diff_stds_95 = [diff_std * 1.96 for _, _, diff_std in sorted_diff_stats]\n",
    "\n",
    "    # グラフにプロットする\n",
    "    plt.plot(column_names, diff_means, marker='o', color='r')\n",
    "    plt.errorbar(column_names, diff_means, yerr=diff_stds_95, ecolor='g', capsize=4)\n",
    "\n",
    "    plt.title('Permutation Importance')\n",
    "    plt.grid()\n",
    "    plt.xlabel('column')\n",
    "    plt.ylabel('difference')\n",
    "    plt.show()\n",
    "\n",
    "\n",
    "if __name__ == '__main__':\n",
    "    main()"
   ]
  },
  {
   "cell_type": "code",
   "execution_count": null,
   "metadata": {},
   "outputs": [],
   "source": []
  }
 ],
 "metadata": {
  "kernelspec": {
   "display_name": "Python 3",
   "language": "python",
   "name": "python3"
  },
  "language_info": {
   "codemirror_mode": {
    "name": "ipython",
    "version": 3
   },
   "file_extension": ".py",
   "mimetype": "text/x-python",
   "name": "python",
   "nbconvert_exporter": "python",
   "pygments_lexer": "ipython3",
   "version": "3.6.8"
  },
  "toc-autonumbering": true
 },
 "nbformat": 4,
 "nbformat_minor": 4
}
