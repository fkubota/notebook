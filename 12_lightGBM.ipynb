{
 "cells": [
  {
   "cell_type": "markdown",
   "metadata": {},
   "source": [
    "# Introductoin\n",
    "- lightGBM"
   ]
  },
  {
   "cell_type": "markdown",
   "metadata": {},
   "source": [
    "# Import everythng I nead :)"
   ]
  },
  {
   "cell_type": "code",
   "execution_count": 57,
   "metadata": {},
   "outputs": [],
   "source": [
    "import time\n",
    "import numpy as np\n",
    "import pandas as pd\n",
    "import lightgbm as lgb\n",
    "import matplotlib.pyplot as plt\n",
    "import seaborn as sns\n",
    "from sklearn.datasets import load_boston\n",
    "from sklearn.model_selection import KFold\n",
    "from sklearn.metrics import mean_squared_error\n",
    "from sklearn.model_selection import train_test_split"
   ]
  },
  {
   "cell_type": "markdown",
   "metadata": {},
   "source": [
    "# lightGBM Regressior(not using test data)"
   ]
  },
  {
   "cell_type": "markdown",
   "metadata": {},
   "source": [
    "## preparation data"
   ]
  },
  {
   "cell_type": "code",
   "execution_count": 58,
   "metadata": {},
   "outputs": [
    {
     "data": {
      "text/html": [
       "<div>\n",
       "<style scoped>\n",
       "    .dataframe tbody tr th:only-of-type {\n",
       "        vertical-align: middle;\n",
       "    }\n",
       "\n",
       "    .dataframe tbody tr th {\n",
       "        vertical-align: top;\n",
       "    }\n",
       "\n",
       "    .dataframe thead th {\n",
       "        text-align: right;\n",
       "    }\n",
       "</style>\n",
       "<table border=\"1\" class=\"dataframe\">\n",
       "  <thead>\n",
       "    <tr style=\"text-align: right;\">\n",
       "      <th></th>\n",
       "      <th>CRIM</th>\n",
       "      <th>ZN</th>\n",
       "      <th>INDUS</th>\n",
       "      <th>CHAS</th>\n",
       "      <th>NOX</th>\n",
       "      <th>RM</th>\n",
       "      <th>AGE</th>\n",
       "      <th>DIS</th>\n",
       "      <th>RAD</th>\n",
       "      <th>TAX</th>\n",
       "      <th>PTRATIO</th>\n",
       "      <th>B</th>\n",
       "      <th>LSTAT</th>\n",
       "    </tr>\n",
       "  </thead>\n",
       "  <tbody>\n",
       "    <tr>\n",
       "      <th>0</th>\n",
       "      <td>0.00632</td>\n",
       "      <td>18.0</td>\n",
       "      <td>2.31</td>\n",
       "      <td>0.0</td>\n",
       "      <td>0.538</td>\n",
       "      <td>6.575</td>\n",
       "      <td>65.2</td>\n",
       "      <td>4.0900</td>\n",
       "      <td>1.0</td>\n",
       "      <td>296.0</td>\n",
       "      <td>15.3</td>\n",
       "      <td>396.9</td>\n",
       "      <td>4.98</td>\n",
       "    </tr>\n",
       "    <tr>\n",
       "      <th>1</th>\n",
       "      <td>0.02731</td>\n",
       "      <td>0.0</td>\n",
       "      <td>7.07</td>\n",
       "      <td>0.0</td>\n",
       "      <td>0.469</td>\n",
       "      <td>6.421</td>\n",
       "      <td>78.9</td>\n",
       "      <td>4.9671</td>\n",
       "      <td>2.0</td>\n",
       "      <td>242.0</td>\n",
       "      <td>17.8</td>\n",
       "      <td>396.9</td>\n",
       "      <td>9.14</td>\n",
       "    </tr>\n",
       "  </tbody>\n",
       "</table>\n",
       "</div>"
      ],
      "text/plain": [
       "      CRIM    ZN  INDUS  CHAS    NOX     RM   AGE     DIS  RAD    TAX  \\\n",
       "0  0.00632  18.0   2.31   0.0  0.538  6.575  65.2  4.0900  1.0  296.0   \n",
       "1  0.02731   0.0   7.07   0.0  0.469  6.421  78.9  4.9671  2.0  242.0   \n",
       "\n",
       "   PTRATIO      B  LSTAT  \n",
       "0     15.3  396.9   4.98  \n",
       "1     17.8  396.9   9.14  "
      ]
     },
     "execution_count": 58,
     "metadata": {},
     "output_type": "execute_result"
    }
   ],
   "source": [
    "boston = load_boston()\n",
    "# feature_names = boston.feature_names\n",
    "df = pd.DataFrame(boston.data, columns=boston.feature_names)\n",
    "df.head(2)"
   ]
  },
  {
   "cell_type": "code",
   "execution_count": 59,
   "metadata": {},
   "outputs": [],
   "source": [
    "X = df\n",
    "y = boston.target"
   ]
  },
  {
   "cell_type": "markdown",
   "metadata": {},
   "source": [
    "## set params"
   ]
  },
  {
   "cell_type": "code",
   "execution_count": 60,
   "metadata": {},
   "outputs": [],
   "source": [
    "# Configuration\n",
    "N_ESTIMATORS = 1000          # 最大学習回数\n",
    "VERBOSE = 50               # 50回ごとに評価する\n",
    "EARLY_STOPPING_ROUNDS = 100  # 100回の学習でよくならなければ、学習をとめる\n",
    "RANDOM_STATE = 42\n",
    "METRIC = mean_squared_error\n",
    "\n",
    "# lgb_params\n",
    "lgb_params = {'num_leaves': 31,\n",
    "          'min_child_samples': 30,\n",
    "          'objective': 'regression',\n",
    "          'max_depth': 9,\n",
    "          'learning_rate': 0.2,\n",
    "          \"boosting_type\": \"gbdt\",\n",
    "          \"subsample_freq\": 1,\n",
    "          \"subsample\": 0.9,\n",
    "          \"bagging_seed\": 11,\n",
    "          \"metric\": 'mse',\n",
    "          \"verbosity\": -1,\n",
    "          'reg_alpha': 0.1,\n",
    "          'reg_lambda': 0.3,\n",
    "          'colsample_bytree': 1.0\n",
    "         }"
   ]
  },
  {
   "cell_type": "markdown",
   "metadata": {},
   "source": [
    "## K-Fold"
   ]
  },
  {
   "cell_type": "markdown",
   "metadata": {},
   "source": [
    "**5 fold**"
   ]
  },
  {
   "cell_type": "code",
   "execution_count": 73,
   "metadata": {},
   "outputs": [
    {
     "name": "stdout",
     "output_type": "stream",
     "text": [
      "------------------\n",
      "Fold 1 started at Sun Jun 23 09:02:38 2019\n",
      "- fold1\n",
      "Training until validation scores don't improve for 100 rounds.\n",
      "[30]\ttraining's l2: 7.60413\tvalid_1's l2: 19.2165\n",
      "[60]\ttraining's l2: 4.40304\tvalid_1's l2: 18.3775\n",
      "[90]\ttraining's l2: 3.01634\tvalid_1's l2: 17.7466\n",
      "[120]\ttraining's l2: 2.17791\tvalid_1's l2: 17.3311\n",
      "[150]\ttraining's l2: 1.63197\tvalid_1's l2: 17.3632\n",
      "[180]\ttraining's l2: 1.26714\tvalid_1's l2: 17.5293\n",
      "[210]\ttraining's l2: 1.01456\tvalid_1's l2: 17.6227\n",
      "Early stopping, best iteration is:\n",
      "[112]\ttraining's l2: 2.33786\tvalid_1's l2: 17.2111\n",
      "------------------\n",
      "Fold 2 started at Sun Jun 23 09:02:38 2019\n",
      "- fold2\n",
      "Training until validation scores don't improve for 100 rounds.\n",
      "[30]\ttraining's l2: 7.4834\tvalid_1's l2: 17.0264\n",
      "[60]\ttraining's l2: 4.0509\tvalid_1's l2: 18.1163\n",
      "[90]\ttraining's l2: 2.63456\tvalid_1's l2: 19.2133\n",
      "[120]\ttraining's l2: 1.81349\tvalid_1's l2: 19.0439\n",
      "Early stopping, best iteration is:\n",
      "[23]\ttraining's l2: 8.96949\tvalid_1's l2: 16.5609\n",
      "------------------\n",
      "Fold 3 started at Sun Jun 23 09:02:38 2019\n",
      "- fold3\n",
      "Training until validation scores don't improve for 100 rounds.\n",
      "[30]\ttraining's l2: 7.88833\tvalid_1's l2: 15.6764\n",
      "[60]\ttraining's l2: 4.73714\tvalid_1's l2: 13.919\n",
      "[90]\ttraining's l2: 3.1824\tvalid_1's l2: 13.043\n",
      "[120]\ttraining's l2: 2.28046\tvalid_1's l2: 13.1772\n",
      "[150]\ttraining's l2: 1.73184\tvalid_1's l2: 13.3299\n",
      "[180]\ttraining's l2: 1.33983\tvalid_1's l2: 13.1622\n",
      "Early stopping, best iteration is:\n",
      "[84]\ttraining's l2: 3.40348\tvalid_1's l2: 12.8726\n",
      "------------------\n",
      "Fold 4 started at Sun Jun 23 09:02:38 2019\n",
      "- fold4\n",
      "Training until validation scores don't improve for 100 rounds.\n",
      "[30]\ttraining's l2: 8.5377\tvalid_1's l2: 8.68184\n",
      "[60]\ttraining's l2: 5.25668\tvalid_1's l2: 6.8022\n",
      "[90]\ttraining's l2: 3.5188\tvalid_1's l2: 6.33224\n",
      "[120]\ttraining's l2: 2.5894\tvalid_1's l2: 6.36043\n",
      "[150]\ttraining's l2: 1.94693\tvalid_1's l2: 6.36434\n",
      "[180]\ttraining's l2: 1.47228\tvalid_1's l2: 6.27715\n",
      "[210]\ttraining's l2: 1.15862\tvalid_1's l2: 6.46874\n",
      "Early stopping, best iteration is:\n",
      "[128]\ttraining's l2: 2.40208\tvalid_1's l2: 6.18763\n",
      "------------------\n",
      "Fold 5 started at Sun Jun 23 09:02:38 2019\n",
      "- fold5\n",
      "Training until validation scores don't improve for 100 rounds.\n",
      "[30]\ttraining's l2: 7.98609\tvalid_1's l2: 12.6037\n",
      "[60]\ttraining's l2: 4.80431\tvalid_1's l2: 10.9852\n",
      "[90]\ttraining's l2: 3.19644\tvalid_1's l2: 10.5438\n",
      "[120]\ttraining's l2: 2.29724\tvalid_1's l2: 10.5207\n",
      "[150]\ttraining's l2: 1.7278\tvalid_1's l2: 10.4895\n",
      "[180]\ttraining's l2: 1.35342\tvalid_1's l2: 10.7537\n",
      "[210]\ttraining's l2: 1.06341\tvalid_1's l2: 10.7718\n",
      "[240]\ttraining's l2: 0.853451\tvalid_1's l2: 10.8835\n",
      "Early stopping, best iteration is:\n",
      "[157]\ttraining's l2: 1.62928\tvalid_1's l2: 10.3592\n",
      "------------------\n",
      "====== finish ======\n",
      "score list: [17.2112, 16.5609, 12.8726, 6.1876, 10.3592]\n",
      "CV mean score: 12.6383, std: 4.0782\n"
     ]
    }
   ],
   "source": [
    "n_folds = 5\n",
    "folds = KFold(n_splits=n_folds, shuffle=True)\n",
    "\n",
    "scores = []\n",
    "models = []\n",
    "feature_importance = pd.DataFrame()\n",
    "feat = X.columns\n",
    "for fold_n, (train_idx, valid_idx) in enumerate(folds.split(X)):\n",
    "    print('------------------')\n",
    "    print(f'- fold{fold_n + 1}' )\n",
    "    print(f'Fold {fold_n + 1} started at {time.ctime()}')\n",
    "    X_train, X_valid = X.iloc[train_idx], X.iloc[valid_idx]\n",
    "    y_train, y_valid = y[train_idx], y[valid_idx]\n",
    "    \n",
    "    # Train the model\n",
    "    model = lgb.LGBMRegressor(**lgb_params, n_estimators=N_ESTIMATORS, n_jobs=-1)\n",
    "    model.fit(X_train, y_train,\n",
    "              eval_set=[(X_train, y_train), (X_valid, y_valid)],\n",
    "              verbose=VERBOSE,\n",
    "              early_stopping_rounds=EARLY_STOPPING_ROUNDS)\n",
    "    \n",
    "    \n",
    "    # predict\n",
    "    oof = model.predict(X_valid, num_iteration=model.best_iteration_)   # oof: out of folds\n",
    "    scores.append(round(METRIC(y_valid, oof), 4))\n",
    "    \n",
    "    # feature_importance\n",
    "    fold_importance = pd.DataFrame()\n",
    "    fold_importance['feature'] = X.columns\n",
    "    fold_importance['importance'] = model.feature_importances_\n",
    "    fold_importance['fold'] = fold_n + 1\n",
    "    feature_importance = pd.concat([feature_importance, fold_importance], axis=0)\n",
    "    \n",
    "feature_importance[\"importance\"] /= folds.n_splits\n",
    "\n",
    "print('------------------')\n",
    "print('====== finish ======')\n",
    "print('score list:', scores)\n",
    "print('CV mean score: {0:.4f}, std: {1:.4f}'.format(np.mean(scores), np.std(scores)))"
   ]
  },
  {
   "cell_type": "markdown",
   "metadata": {},
   "source": [
    "---> めっちゃ過学習してくるけど、まあいいや"
   ]
  },
  {
   "cell_type": "markdown",
   "metadata": {},
   "source": [
    "## plot feature importance"
   ]
  },
  {
   "cell_type": "code",
   "execution_count": 74,
   "metadata": {},
   "outputs": [
    {
     "name": "stderr",
     "output_type": "stream",
     "text": [
      "/usr/local/lib/python3.6/dist-packages/scipy/stats/stats.py:1713: FutureWarning: Using a non-tuple sequence for multidimensional indexing is deprecated; use `arr[tuple(seq)]` instead of `arr[seq]`. In the future this will be interpreted as an array index, `arr[np.array(seq)]`, which will result either in an error or a different result.\n",
      "  return np.add.reduce(sorted[indexer] * weights, axis=axis) / sumval\n"
     ]
    },
    {
     "data": {
      "image/png": "[encoded data removed]",
      "text/plain": [
       "<Figure size 1152x864 with 1 Axes>"
      ]
     },
     "metadata": {
      "needs_background": "light"
     },
     "output_type": "display_data"
    }
   ],
   "source": [
    "# top 50 features\n",
    "cols = feature_importance[[\"feature\", \"importance\"]].groupby(\"feature\").mean().sort_values(\n",
    "    by=\"importance\", ascending=False)[:50].index\n",
    "\n",
    "best_features = feature_importance.loc[feature_importance.feature.isin(cols)]\n",
    "\n",
    "plt.figure(figsize=(16, 12));\n",
    "sns.barplot(x=\"importance\", y=\"feature\", data=best_features.sort_values(by=\"importance\", ascending=False));\n",
    "plt.title('LGB Features (avg over folds)');\n"
   ]
  },
  {
   "cell_type": "markdown",
   "metadata": {},
   "source": [
    "# lightGBM Regressior(using test data)"
   ]
  },
  {
   "cell_type": "markdown",
   "metadata": {},
   "source": [
    "## preparation data"
   ]
  },
  {
   "cell_type": "code",
   "execution_count": 75,
   "metadata": {},
   "outputs": [
    {
     "data": {
      "text/html": [
       "<div>\n",
       "<style scoped>\n",
       "    .dataframe tbody tr th:only-of-type {\n",
       "        vertical-align: middle;\n",
       "    }\n",
       "\n",
       "    .dataframe tbody tr th {\n",
       "        vertical-align: top;\n",
       "    }\n",
       "\n",
       "    .dataframe thead th {\n",
       "        text-align: right;\n",
       "    }\n",
       "</style>\n",
       "<table border=\"1\" class=\"dataframe\">\n",
       "  <thead>\n",
       "    <tr style=\"text-align: right;\">\n",
       "      <th></th>\n",
       "      <th>CRIM</th>\n",
       "      <th>ZN</th>\n",
       "      <th>INDUS</th>\n",
       "      <th>CHAS</th>\n",
       "      <th>NOX</th>\n",
       "      <th>RM</th>\n",
       "      <th>AGE</th>\n",
       "      <th>DIS</th>\n",
       "      <th>RAD</th>\n",
       "      <th>TAX</th>\n",
       "      <th>PTRATIO</th>\n",
       "      <th>B</th>\n",
       "      <th>LSTAT</th>\n",
       "    </tr>\n",
       "  </thead>\n",
       "  <tbody>\n",
       "    <tr>\n",
       "      <th>0</th>\n",
       "      <td>0.00632</td>\n",
       "      <td>18.0</td>\n",
       "      <td>2.31</td>\n",
       "      <td>0.0</td>\n",
       "      <td>0.538</td>\n",
       "      <td>6.575</td>\n",
       "      <td>65.2</td>\n",
       "      <td>4.0900</td>\n",
       "      <td>1.0</td>\n",
       "      <td>296.0</td>\n",
       "      <td>15.3</td>\n",
       "      <td>396.9</td>\n",
       "      <td>4.98</td>\n",
       "    </tr>\n",
       "    <tr>\n",
       "      <th>1</th>\n",
       "      <td>0.02731</td>\n",
       "      <td>0.0</td>\n",
       "      <td>7.07</td>\n",
       "      <td>0.0</td>\n",
       "      <td>0.469</td>\n",
       "      <td>6.421</td>\n",
       "      <td>78.9</td>\n",
       "      <td>4.9671</td>\n",
       "      <td>2.0</td>\n",
       "      <td>242.0</td>\n",
       "      <td>17.8</td>\n",
       "      <td>396.9</td>\n",
       "      <td>9.14</td>\n",
       "    </tr>\n",
       "  </tbody>\n",
       "</table>\n",
       "</div>"
      ],
      "text/plain": [
       "      CRIM    ZN  INDUS  CHAS    NOX     RM   AGE     DIS  RAD    TAX  \\\n",
       "0  0.00632  18.0   2.31   0.0  0.538  6.575  65.2  4.0900  1.0  296.0   \n",
       "1  0.02731   0.0   7.07   0.0  0.469  6.421  78.9  4.9671  2.0  242.0   \n",
       "\n",
       "   PTRATIO      B  LSTAT  \n",
       "0     15.3  396.9   4.98  \n",
       "1     17.8  396.9   9.14  "
      ]
     },
     "execution_count": 75,
     "metadata": {},
     "output_type": "execute_result"
    }
   ],
   "source": [
    "boston = load_boston()\n",
    "df = pd.DataFrame(boston.data, columns=boston.feature_names)\n",
    "df.head(2)"
   ]
  },
  {
   "cell_type": "code",
   "execution_count": 76,
   "metadata": {},
   "outputs": [],
   "source": [
    "# test data を用意しとく\n",
    "# X, y は後で、クロスバリデーションのときに、train, validation セットになる\n",
    "X = df\n",
    "y = boston.target\n",
    "X, X_test, y, y_test = train_test_split(X, y, test_size=0.2, random_state=42)"
   ]
  },
  {
   "cell_type": "markdown",
   "metadata": {},
   "source": [
    "## set params"
   ]
  },
  {
   "cell_type": "code",
   "execution_count": 77,
   "metadata": {},
   "outputs": [],
   "source": [
    "# Configuration\n",
    "N_ESTIMATORS = 1000          # 最大学習回数\n",
    "VERBOSE = 30               # 200回ごとに評価する\n",
    "EARLY_STOPPING_ROUNDS = 100  # 100回の学習でよくならなければ、学習をとめる\n",
    "RANDOM_STATE = 42\n",
    "METRIC = mean_squared_error\n",
    "\n",
    "# lgb_params\n",
    "lgb_params = {'num_leaves': 31,\n",
    "          'min_child_samples': 30,\n",
    "          'objective': 'regression',\n",
    "          'max_depth': 9,\n",
    "          'learning_rate': 0.2,\n",
    "          \"boosting_type\": \"gbdt\",\n",
    "          \"subsample_freq\": 1,\n",
    "          \"subsample\": 0.9,\n",
    "          \"bagging_seed\": 11,\n",
    "          \"metric\": 'mse',\n",
    "          \"verbosity\": -1,\n",
    "          'reg_alpha': 0.1,\n",
    "          'reg_lambda': 0.3,\n",
    "          'colsample_bytree': 1.0\n",
    "         }"
   ]
  },
  {
   "cell_type": "markdown",
   "metadata": {},
   "source": [
    "## K-Fold"
   ]
  },
  {
   "cell_type": "markdown",
   "metadata": {},
   "source": [
    "**5 fold**"
   ]
  },
  {
   "cell_type": "code",
   "execution_count": 78,
   "metadata": {},
   "outputs": [
    {
     "name": "stdout",
     "output_type": "stream",
     "text": [
      "------------------\n",
      "Fold 1 started at Sun Jun 23 09:02:40 2019\n",
      "- fold1\n",
      "Training until validation scores don't improve for 100 rounds.\n",
      "[30]\ttraining's l2: 6.50708\tvalid_1's l2: 24.7483\n",
      "[60]\ttraining's l2: 3.84781\tvalid_1's l2: 24.2457\n",
      "[90]\ttraining's l2: 2.68136\tvalid_1's l2: 22.7982\n",
      "[120]\ttraining's l2: 1.95631\tvalid_1's l2: 23.367\n",
      "[150]\ttraining's l2: 1.42728\tvalid_1's l2: 22.9311\n",
      "[180]\ttraining's l2: 1.11022\tvalid_1's l2: 22.8972\n",
      "Early stopping, best iteration is:\n",
      "[93]\ttraining's l2: 2.59751\tvalid_1's l2: 22.6812\n",
      "------------------\n",
      "Fold 2 started at Sun Jun 23 09:02:41 2019\n",
      "- fold2\n",
      "Training until validation scores don't improve for 100 rounds.\n",
      "[30]\ttraining's l2: 8.17495\tvalid_1's l2: 10.4784\n",
      "[60]\ttraining's l2: 4.85208\tvalid_1's l2: 9.82154\n",
      "[90]\ttraining's l2: 3.38872\tvalid_1's l2: 9.49287\n",
      "[120]\ttraining's l2: 2.46242\tvalid_1's l2: 9.79881\n",
      "[150]\ttraining's l2: 1.88256\tvalid_1's l2: 9.54683\n",
      "[180]\ttraining's l2: 1.47072\tvalid_1's l2: 9.57939\n",
      "[210]\ttraining's l2: 1.17519\tvalid_1's l2: 9.74857\n",
      "[240]\ttraining's l2: 0.941478\tvalid_1's l2: 9.86864\n",
      "Early stopping, best iteration is:\n",
      "[159]\ttraining's l2: 1.73251\tvalid_1's l2: 9.35712\n",
      "------------------\n",
      "Fold 3 started at Sun Jun 23 09:02:41 2019\n",
      "- fold3\n",
      "Training until validation scores don't improve for 100 rounds.\n",
      "[30]\ttraining's l2: 8.7552\tvalid_1's l2: 11.5748\n",
      "[60]\ttraining's l2: 5.1699\tvalid_1's l2: 10.5063\n",
      "[90]\ttraining's l2: 3.46385\tvalid_1's l2: 10.6485\n",
      "[120]\ttraining's l2: 2.43196\tvalid_1's l2: 10.2427\n",
      "[150]\ttraining's l2: 1.7629\tvalid_1's l2: 10.4461\n",
      "[180]\ttraining's l2: 1.31029\tvalid_1's l2: 10.5353\n",
      "[210]\ttraining's l2: 0.997011\tvalid_1's l2: 10.5297\n",
      "Early stopping, best iteration is:\n",
      "[118]\ttraining's l2: 2.47847\tvalid_1's l2: 10.2284\n",
      "------------------\n",
      "Fold 4 started at Sun Jun 23 09:02:41 2019\n",
      "- fold4\n",
      "Training until validation scores don't improve for 100 rounds.\n",
      "[30]\ttraining's l2: 7.93644\tvalid_1's l2: 12.9716\n",
      "[60]\ttraining's l2: 4.44166\tvalid_1's l2: 12.1623\n",
      "[90]\ttraining's l2: 2.88701\tvalid_1's l2: 12.823\n",
      "[120]\ttraining's l2: 2.04893\tvalid_1's l2: 12.7386\n",
      "[150]\ttraining's l2: 1.53978\tvalid_1's l2: 13.0512\n",
      "Early stopping, best iteration is:\n",
      "[60]\ttraining's l2: 4.44166\tvalid_1's l2: 12.1623\n",
      "------------------\n",
      "Fold 5 started at Sun Jun 23 09:02:41 2019\n",
      "- fold5\n",
      "Training until validation scores don't improve for 100 rounds.\n",
      "[30]\ttraining's l2: 7.66882\tvalid_1's l2: 14.0249\n",
      "[60]\ttraining's l2: 4.82733\tvalid_1's l2: 12.5484\n",
      "[90]\ttraining's l2: 3.3484\tvalid_1's l2: 11.7072\n",
      "[120]\ttraining's l2: 2.452\tvalid_1's l2: 11.3558\n",
      "[150]\ttraining's l2: 1.88461\tvalid_1's l2: 11.2173\n",
      "[180]\ttraining's l2: 1.46748\tvalid_1's l2: 11.0772\n",
      "[210]\ttraining's l2: 1.1655\tvalid_1's l2: 11.0088\n",
      "[240]\ttraining's l2: 0.930216\tvalid_1's l2: 11.1219\n",
      "[270]\ttraining's l2: 0.774938\tvalid_1's l2: 11.0526\n",
      "Early stopping, best iteration is:\n",
      "[198]\ttraining's l2: 1.27325\tvalid_1's l2: 10.8883\n",
      "------------------\n",
      "====== finish ======\n",
      "score list: [22.681250057030766, 9.357116554782326, 10.228404389754022, 12.162265701110812, 10.888255831839086]\n",
      "CV mean score: 13.0635, std: 4.8953\n"
     ]
    }
   ],
   "source": [
    "n_folds = 5\n",
    "folds = KFold(n_splits=n_folds, shuffle=True)\n",
    "\n",
    "# init\n",
    "result_dict = {}\n",
    "oof = np.zeros(len(X))\n",
    "prediction = np.zeros(len(X_test))\n",
    "scores = []\n",
    "models = []\n",
    "feature_importance = pd.DataFrame()\n",
    "for fold_n, (train_idx, valid_idx) in enumerate(folds.split(X)):\n",
    "    print('------------------')\n",
    "    print(f'- fold{fold_n + 1}' )\n",
    "    print(f'Fold {fold_n + 1} started at {time.ctime()}')\n",
    "    X_train, X_valid = X.iloc[train_idx], X.iloc[valid_idx]\n",
    "    y_train, y_valid = y[train_idx], y[valid_idx]\n",
    "    \n",
    "    # Train the model\n",
    "    model = lgb.LGBMRegressor(**lgb_params, n_estimators=N_ESTIMATORS, n_jobs=-1)\n",
    "    model.fit(X_train, y_train,\n",
    "              eval_set=[(X_train, y_train), (X_valid, y_valid)],\n",
    "              verbose=VERBOSE,\n",
    "              early_stopping_rounds=EARLY_STOPPING_ROUNDS)\n",
    "    \n",
    "    # predict\n",
    "    y_valid_pred = model.predict(X_valid, num_iteration=model.best_iteration_)   # oof: out of folds\n",
    "    y_test_pred = model.predict(X_test)\n",
    "    \n",
    "    oof[valid_idx] = y_valid_pred.reshape(-1,)\n",
    "    scores.append(METRIC(y_valid, y_valid_pred))\n",
    "    \n",
    "    prediction += y_test_pred\n",
    "    \n",
    "    # feature_importance\n",
    "    fold_importance = pd.DataFrame()\n",
    "    fold_importance['feature'] = X.columns\n",
    "    fold_importance['importance'] = model.feature_importances_\n",
    "    fold_importance['fold'] = fold_n + 1\n",
    "    feature_importance = pd.concat([feature_importance, fold_importance], axis=0)\n",
    "\n",
    "# result\n",
    "prediction /= folds.n_splits\n",
    "feature_importance[\"importance\"] /= folds.n_splits\n",
    "result_dict['oof'] = oof\n",
    "result_dict['prediction'] = prediction\n",
    "result_dict['scores'] = scores\n",
    "result_dict['feature_importance'] = feature_importance\n",
    "\n",
    "\n",
    "print('------------------')\n",
    "print('====== finish ======')\n",
    "print('score list:', scores)\n",
    "print('CV mean score: {0:.4f}, std: {1:.4f}'.format(np.mean(scores), np.std(scores)))"
   ]
  },
  {
   "cell_type": "markdown",
   "metadata": {},
   "source": [
    "---> めっちゃ過学習してくるけど、まあいいや"
   ]
  },
  {
   "cell_type": "markdown",
   "metadata": {},
   "source": [
    "## plot feature importance"
   ]
  },
  {
   "cell_type": "code",
   "execution_count": 79,
   "metadata": {},
   "outputs": [
    {
     "name": "stderr",
     "output_type": "stream",
     "text": [
      "/usr/local/lib/python3.6/dist-packages/scipy/stats/stats.py:1713: FutureWarning: Using a non-tuple sequence for multidimensional indexing is deprecated; use `arr[tuple(seq)]` instead of `arr[seq]`. In the future this will be interpreted as an array index, `arr[np.array(seq)]`, which will result either in an error or a different result.\n",
      "  return np.add.reduce(sorted[indexer] * weights, axis=axis) / sumval\n"
     ]
    },
    {
     "data": {
      "image/png": "[encoded data removed]",
      "text/plain": [
       "<Figure size 1152x864 with 1 Axes>"
      ]
     },
     "metadata": {
      "needs_background": "light"
     },
     "output_type": "display_data"
    }
   ],
   "source": [
    "# top 50 features\n",
    "cols = feature_importance[[\"feature\", \"importance\"]].groupby(\"feature\").mean().sort_values(\n",
    "    by=\"importance\", ascending=False)[:50].index\n",
    "\n",
    "best_features = feature_importance.loc[feature_importance.feature.isin(cols)]\n",
    "\n",
    "plt.figure(figsize=(16, 12));\n",
    "sns.barplot(x=\"importance\", y=\"feature\", data=best_features.sort_values(by=\"importance\", ascending=False));\n",
    "plt.title('LGB Features (avg over folds)');\n"
   ]
  },
  {
   "cell_type": "code",
   "execution_count": null,
   "metadata": {},
   "outputs": [],
   "source": []
  },
  {
   "cell_type": "code",
   "execution_count": null,
   "metadata": {},
   "outputs": [],
   "source": []
  },
  {
   "cell_type": "code",
   "execution_count": null,
   "metadata": {},
   "outputs": [],
   "source": []
  },
  {
   "cell_type": "code",
   "execution_count": null,
   "metadata": {},
   "outputs": [],
   "source": []
  },
  {
   "cell_type": "code",
   "execution_count": null,
   "metadata": {},
   "outputs": [],
   "source": []
  },
  {
   "cell_type": "code",
   "execution_count": null,
   "metadata": {},
   "outputs": [],
   "source": []
  },
  {
   "cell_type": "code",
   "execution_count": null,
   "metadata": {},
   "outputs": [],
   "source": []
  },
  {
   "cell_type": "code",
   "execution_count": null,
   "metadata": {},
   "outputs": [],
   "source": []
  },
  {
   "cell_type": "code",
   "execution_count": null,
   "metadata": {},
   "outputs": [],
   "source": []
  }
 ],
 "metadata": {
  "kernelspec": {
   "display_name": "Python 3",
   "language": "python",
   "name": "python3"
  },
  "language_info": {
   "codemirror_mode": {
    "name": "ipython",
    "version": 3
   },
   "file_extension": ".py",
   "mimetype": "text/x-python",
   "name": "python",
   "nbconvert_exporter": "python",
   "pygments_lexer": "ipython3",
   "version": "3.6.8"
  }
 },
 "nbformat": 4,
 "nbformat_minor": 2
}
