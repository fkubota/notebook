{
 "cells": [
  {
   "cell_type": "markdown",
   "metadata": {},
   "source": [
    "# Introductoin\n",
    "- lightGBM"
   ]
  },
  {
   "cell_type": "markdown",
   "metadata": {},
   "source": [
    "# Import everythng I need :)"
   ]
  },
  {
   "cell_type": "code",
   "execution_count": 1,
   "metadata": {},
   "outputs": [
    {
     "name": "stderr",
     "output_type": "stream",
     "text": [
      "/usr/local/lib/python3.6/dist-packages/matplotlib/__init__.py:886: MatplotlibDeprecationWarning: \n",
      "examples.directory is deprecated; in the future, examples will be found relative to the 'datapath' directory.\n",
      "  \"found relative to the 'datapath' directory.\".format(key))\n"
     ]
    }
   ],
   "source": [
    "import time\n",
    "import numpy as np\n",
    "import pandas as pd\n",
    "import lightgbm as lgb\n",
    "import matplotlib.pyplot as plt\n",
    "import seaborn as sns\n",
    "from sklearn.datasets import load_boston\n",
    "from sklearn.model_selection import KFold\n",
    "from sklearn.metrics import mean_squared_error\n",
    "from sklearn.model_selection import train_test_split"
   ]
  },
  {
   "cell_type": "markdown",
   "metadata": {},
   "source": [
    "# lightGBM Regressior(not using test data)"
   ]
  },
  {
   "cell_type": "markdown",
   "metadata": {},
   "source": [
    "## preparation data"
   ]
  },
  {
   "cell_type": "code",
   "execution_count": 2,
   "metadata": {},
   "outputs": [
    {
     "data": {
      "text/html": [
       "<div>\n",
       "<style scoped>\n",
       "    .dataframe tbody tr th:only-of-type {\n",
       "        vertical-align: middle;\n",
       "    }\n",
       "\n",
       "    .dataframe tbody tr th {\n",
       "        vertical-align: top;\n",
       "    }\n",
       "\n",
       "    .dataframe thead th {\n",
       "        text-align: right;\n",
       "    }\n",
       "</style>\n",
       "<table border=\"1\" class=\"dataframe\">\n",
       "  <thead>\n",
       "    <tr style=\"text-align: right;\">\n",
       "      <th></th>\n",
       "      <th>CRIM</th>\n",
       "      <th>ZN</th>\n",
       "      <th>INDUS</th>\n",
       "      <th>CHAS</th>\n",
       "      <th>NOX</th>\n",
       "      <th>RM</th>\n",
       "      <th>AGE</th>\n",
       "      <th>DIS</th>\n",
       "      <th>RAD</th>\n",
       "      <th>TAX</th>\n",
       "      <th>PTRATIO</th>\n",
       "      <th>B</th>\n",
       "      <th>LSTAT</th>\n",
       "    </tr>\n",
       "  </thead>\n",
       "  <tbody>\n",
       "    <tr>\n",
       "      <th>0</th>\n",
       "      <td>0.00632</td>\n",
       "      <td>18.0</td>\n",
       "      <td>2.31</td>\n",
       "      <td>0.0</td>\n",
       "      <td>0.538</td>\n",
       "      <td>6.575</td>\n",
       "      <td>65.2</td>\n",
       "      <td>4.0900</td>\n",
       "      <td>1.0</td>\n",
       "      <td>296.0</td>\n",
       "      <td>15.3</td>\n",
       "      <td>396.9</td>\n",
       "      <td>4.98</td>\n",
       "    </tr>\n",
       "    <tr>\n",
       "      <th>1</th>\n",
       "      <td>0.02731</td>\n",
       "      <td>0.0</td>\n",
       "      <td>7.07</td>\n",
       "      <td>0.0</td>\n",
       "      <td>0.469</td>\n",
       "      <td>6.421</td>\n",
       "      <td>78.9</td>\n",
       "      <td>4.9671</td>\n",
       "      <td>2.0</td>\n",
       "      <td>242.0</td>\n",
       "      <td>17.8</td>\n",
       "      <td>396.9</td>\n",
       "      <td>9.14</td>\n",
       "    </tr>\n",
       "  </tbody>\n",
       "</table>\n",
       "</div>"
      ],
      "text/plain": [
       "      CRIM    ZN  INDUS  CHAS    NOX     RM   AGE     DIS  RAD    TAX  \\\n",
       "0  0.00632  18.0   2.31   0.0  0.538  6.575  65.2  4.0900  1.0  296.0   \n",
       "1  0.02731   0.0   7.07   0.0  0.469  6.421  78.9  4.9671  2.0  242.0   \n",
       "\n",
       "   PTRATIO      B  LSTAT  \n",
       "0     15.3  396.9   4.98  \n",
       "1     17.8  396.9   9.14  "
      ]
     },
     "execution_count": 2,
     "metadata": {},
     "output_type": "execute_result"
    }
   ],
   "source": [
    "boston = load_boston()\n",
    "# feature_names = boston.feature_names\n",
    "df = pd.DataFrame(boston.data, columns=boston.feature_names)\n",
    "df.head(2)"
   ]
  },
  {
   "cell_type": "code",
   "execution_count": 6,
   "metadata": {},
   "outputs": [],
   "source": [
    "X = df\n",
    "y = boston.target"
   ]
  },
  {
   "cell_type": "markdown",
   "metadata": {},
   "source": [
    "## set params"
   ]
  },
  {
   "cell_type": "code",
   "execution_count": 4,
   "metadata": {},
   "outputs": [],
   "source": [
    "# Configuration\n",
    "N_ESTIMATORS = 1000          # 最大学習回数\n",
    "VERBOSE = 50               # 50回ごとに評価する\n",
    "EARLY_STOPPING_ROUNDS = 100  # 100回の学習でよくならなければ、学習をとめる\n",
    "RANDOM_STATE = 42\n",
    "METRIC = mean_squared_error\n",
    "\n",
    "# lgb_params\n",
    "lgb_params = {'num_leaves': 31,\n",
    "          'min_child_samples': 30,\n",
    "          'objective': 'regression',\n",
    "          'max_depth': 9,\n",
    "          'learning_rate': 0.2,\n",
    "          \"boosting_type\": \"gbdt\",\n",
    "          \"subsample_freq\": 1,\n",
    "          \"subsample\": 0.9,\n",
    "          \"bagging_seed\": 11,\n",
    "          \"metric\": 'mse',\n",
    "          \"verbosity\": -1,\n",
    "          'reg_alpha': 0.1,\n",
    "          'reg_lambda': 0.3,\n",
    "          'colsample_bytree': 1.0\n",
    "         }"
   ]
  },
  {
   "cell_type": "markdown",
   "metadata": {},
   "source": [
    "## K-Fold"
   ]
  },
  {
   "cell_type": "markdown",
   "metadata": {},
   "source": [
    "**5 fold**"
   ]
  },
  {
   "cell_type": "code",
   "execution_count": 7,
   "metadata": {},
   "outputs": [
    {
     "name": "stdout",
     "output_type": "stream",
     "text": [
      "------------------\n",
      "- fold1\n",
      "Fold 1 started at Fri Jul 12 09:46:26 2019\n",
      "Training until validation scores don't improve for 100 rounds.\n",
      "[50]\ttraining's l2: 4.86981\tvalid_1's l2: 10.1713\n",
      "[100]\ttraining's l2: 2.46231\tvalid_1's l2: 9.92271\n",
      "[150]\ttraining's l2: 1.51082\tvalid_1's l2: 9.94903\n",
      "Early stopping, best iteration is:\n",
      "[82]\ttraining's l2: 3.00442\tvalid_1's l2: 9.76885\n",
      "------------------\n",
      "- fold2\n",
      "Fold 2 started at Fri Jul 12 09:46:27 2019\n",
      "Training until validation scores don't improve for 100 rounds.\n",
      "[50]\ttraining's l2: 4.19869\tvalid_1's l2: 16.6886\n",
      "[100]\ttraining's l2: 2.01236\tvalid_1's l2: 15.6096\n",
      "[150]\ttraining's l2: 1.20802\tvalid_1's l2: 15.606\n",
      "[200]\ttraining's l2: 0.790635\tvalid_1's l2: 15.3742\n",
      "[250]\ttraining's l2: 0.550855\tvalid_1's l2: 15.4617\n",
      "[300]\ttraining's l2: 0.400663\tvalid_1's l2: 15.4669\n",
      "Early stopping, best iteration is:\n",
      "[208]\ttraining's l2: 0.741407\tvalid_1's l2: 15.1926\n",
      "------------------\n",
      "- fold3\n",
      "Fold 3 started at Fri Jul 12 09:46:27 2019\n",
      "Training until validation scores don't improve for 100 rounds.\n",
      "[50]\ttraining's l2: 4.6042\tvalid_1's l2: 9.30454\n",
      "[100]\ttraining's l2: 2.28808\tvalid_1's l2: 9.24719\n",
      "[150]\ttraining's l2: 1.35865\tvalid_1's l2: 9.26638\n",
      "[200]\ttraining's l2: 0.887731\tvalid_1's l2: 9.06859\n",
      "[250]\ttraining's l2: 0.61383\tvalid_1's l2: 9.32392\n",
      "Early stopping, best iteration is:\n",
      "[179]\ttraining's l2: 1.05988\tvalid_1's l2: 8.98925\n",
      "------------------\n",
      "- fold4\n",
      "Fold 4 started at Fri Jul 12 09:46:27 2019\n",
      "Training until validation scores don't improve for 100 rounds.\n",
      "[50]\ttraining's l2: 4.25828\tvalid_1's l2: 9.47574\n",
      "[100]\ttraining's l2: 2.03947\tvalid_1's l2: 9.16366\n",
      "[150]\ttraining's l2: 1.20023\tvalid_1's l2: 9.03913\n",
      "[200]\ttraining's l2: 0.745926\tvalid_1's l2: 8.98358\n",
      "[250]\ttraining's l2: 0.493482\tvalid_1's l2: 8.86529\n",
      "[300]\ttraining's l2: 0.346439\tvalid_1's l2: 8.81335\n",
      "[350]\ttraining's l2: 0.249998\tvalid_1's l2: 8.6973\n",
      "[400]\ttraining's l2: 0.185605\tvalid_1's l2: 8.70411\n",
      "[450]\ttraining's l2: 0.13956\tvalid_1's l2: 8.75165\n",
      "Early stopping, best iteration is:\n",
      "[371]\ttraining's l2: 0.219935\tvalid_1's l2: 8.65656\n",
      "------------------\n",
      "- fold5\n",
      "Fold 5 started at Fri Jul 12 09:46:27 2019\n",
      "Training until validation scores don't improve for 100 rounds.\n",
      "[50]\ttraining's l2: 4.65299\tvalid_1's l2: 15.2886\n",
      "[100]\ttraining's l2: 2.46251\tvalid_1's l2: 13.1053\n",
      "[150]\ttraining's l2: 1.51729\tvalid_1's l2: 12.4732\n",
      "[200]\ttraining's l2: 0.974478\tvalid_1's l2: 12.5399\n",
      "[250]\ttraining's l2: 0.663985\tvalid_1's l2: 12.4739\n",
      "Early stopping, best iteration is:\n",
      "[173]\ttraining's l2: 1.22386\tvalid_1's l2: 12.3469\n",
      "------------------\n",
      "====== finish ======\n",
      "score list: [9.7688, 15.1926, 8.9893, 8.6566, 12.3468]\n",
      "CV mean score: 10.9908, std: 2.4675\n"
     ]
    }
   ],
   "source": [
    "n_folds = 5\n",
    "folds = KFold(n_splits=n_folds, shuffle=True)\n",
    "\n",
    "scores = []\n",
    "models = []\n",
    "feature_importance = pd.DataFrame()\n",
    "feat = X.columns\n",
    "for fold_n, (train_idx, valid_idx) in enumerate(folds.split(X)):\n",
    "    print('------------------')\n",
    "    print(f'- fold{fold_n + 1}' )\n",
    "    print(f'Fold {fold_n + 1} started at {time.ctime()}')\n",
    "    X_train, X_valid = X.iloc[train_idx], X.iloc[valid_idx]\n",
    "    y_train, y_valid = y[train_idx], y[valid_idx]\n",
    "    \n",
    "    # Train the model\n",
    "    model = lgb.LGBMRegressor(**lgb_params, n_estimators=N_ESTIMATORS, n_jobs=-1)\n",
    "    model.fit(X_train, y_train,\n",
    "              eval_set=[(X_train, y_train), (X_valid, y_valid)],\n",
    "              verbose=VERBOSE,\n",
    "              early_stopping_rounds=EARLY_STOPPING_ROUNDS)\n",
    "    \n",
    "    \n",
    "    # predict\n",
    "    oof = model.predict(X_valid, num_iteration=model.best_iteration_)   # oof: out of folds\n",
    "    scores.append(round(METRIC(y_valid, oof), 4))\n",
    "    \n",
    "    # feature_importance\n",
    "    fold_importance = pd.DataFrame()\n",
    "    fold_importance['feature'] = X.columns\n",
    "    fold_importance['importance'] = model.feature_importances_\n",
    "    fold_importance['fold'] = fold_n + 1\n",
    "    feature_importance = pd.concat([feature_importance, fold_importance], axis=0)\n",
    "    \n",
    "feature_importance[\"importance\"] /= folds.n_splits\n",
    "\n",
    "print('------------------')\n",
    "print('====== finish ======')\n",
    "print('score list:', scores)\n",
    "print('CV mean score: {0:.4f}, std: {1:.4f}'.format(np.mean(scores), np.std(scores)))"
   ]
  },
  {
   "cell_type": "markdown",
   "metadata": {},
   "source": [
    "---> めっちゃ過学習してくるけど、まあいいや"
   ]
  },
  {
   "cell_type": "markdown",
   "metadata": {},
   "source": [
    "## plot feature importance"
   ]
  },
  {
   "cell_type": "code",
   "execution_count": 74,
   "metadata": {},
   "outputs": [
    {
     "name": "stderr",
     "output_type": "stream",
     "text": [
      "/usr/local/lib/python3.6/dist-packages/scipy/stats/stats.py:1713: FutureWarning: Using a non-tuple sequence for multidimensional indexing is deprecated; use `arr[tuple(seq)]` instead of `arr[seq]`. In the future this will be interpreted as an array index, `arr[np.array(seq)]`, which will result either in an error or a different result.\n",
      "  return np.add.reduce(sorted[indexer] * weights, axis=axis) / sumval\n"
     ]
    },
    {
     "data": {
      "image/png": "[encoded data removed]",
      "text/plain": [
       "<Figure size 1152x864 with 1 Axes>"
      ]
     },
     "metadata": {
      "needs_background": "light"
     },
     "output_type": "display_data"
    }
   ],
   "source": [
    "# top 50 features\n",
    "cols = feature_importance[[\"feature\", \"importance\"]].groupby(\"feature\").mean().sort_values(\n",
    "    by=\"importance\", ascending=False)[:50].index\n",
    "\n",
    "best_features = feature_importance.loc[feature_importance.feature.isin(cols)]\n",
    "\n",
    "plt.figure(figsize=(16, 12));\n",
    "sns.barplot(x=\"importance\", y=\"feature\", data=best_features.sort_values(by=\"importance\", ascending=False));\n",
    "plt.title('LGB Features (avg over folds)');\n"
   ]
  },
  {
   "cell_type": "markdown",
   "metadata": {},
   "source": [
    "# lightGBM Regressior(using test data)"
   ]
  },
  {
   "cell_type": "markdown",
   "metadata": {},
   "source": [
    "## preparation data"
   ]
  },
  {
   "cell_type": "code",
   "execution_count": 8,
   "metadata": {},
   "outputs": [
    {
     "data": {
      "text/html": [
       "<div>\n",
       "<style scoped>\n",
       "    .dataframe tbody tr th:only-of-type {\n",
       "        vertical-align: middle;\n",
       "    }\n",
       "\n",
       "    .dataframe tbody tr th {\n",
       "        vertical-align: top;\n",
       "    }\n",
       "\n",
       "    .dataframe thead th {\n",
       "        text-align: right;\n",
       "    }\n",
       "</style>\n",
       "<table border=\"1\" class=\"dataframe\">\n",
       "  <thead>\n",
       "    <tr style=\"text-align: right;\">\n",
       "      <th></th>\n",
       "      <th>CRIM</th>\n",
       "      <th>ZN</th>\n",
       "      <th>INDUS</th>\n",
       "      <th>CHAS</th>\n",
       "      <th>NOX</th>\n",
       "      <th>RM</th>\n",
       "      <th>AGE</th>\n",
       "      <th>DIS</th>\n",
       "      <th>RAD</th>\n",
       "      <th>TAX</th>\n",
       "      <th>PTRATIO</th>\n",
       "      <th>B</th>\n",
       "      <th>LSTAT</th>\n",
       "    </tr>\n",
       "  </thead>\n",
       "  <tbody>\n",
       "    <tr>\n",
       "      <th>0</th>\n",
       "      <td>0.00632</td>\n",
       "      <td>18.0</td>\n",
       "      <td>2.31</td>\n",
       "      <td>0.0</td>\n",
       "      <td>0.538</td>\n",
       "      <td>6.575</td>\n",
       "      <td>65.2</td>\n",
       "      <td>4.0900</td>\n",
       "      <td>1.0</td>\n",
       "      <td>296.0</td>\n",
       "      <td>15.3</td>\n",
       "      <td>396.9</td>\n",
       "      <td>4.98</td>\n",
       "    </tr>\n",
       "    <tr>\n",
       "      <th>1</th>\n",
       "      <td>0.02731</td>\n",
       "      <td>0.0</td>\n",
       "      <td>7.07</td>\n",
       "      <td>0.0</td>\n",
       "      <td>0.469</td>\n",
       "      <td>6.421</td>\n",
       "      <td>78.9</td>\n",
       "      <td>4.9671</td>\n",
       "      <td>2.0</td>\n",
       "      <td>242.0</td>\n",
       "      <td>17.8</td>\n",
       "      <td>396.9</td>\n",
       "      <td>9.14</td>\n",
       "    </tr>\n",
       "  </tbody>\n",
       "</table>\n",
       "</div>"
      ],
      "text/plain": [
       "      CRIM    ZN  INDUS  CHAS    NOX     RM   AGE     DIS  RAD    TAX  \\\n",
       "0  0.00632  18.0   2.31   0.0  0.538  6.575  65.2  4.0900  1.0  296.0   \n",
       "1  0.02731   0.0   7.07   0.0  0.469  6.421  78.9  4.9671  2.0  242.0   \n",
       "\n",
       "   PTRATIO      B  LSTAT  \n",
       "0     15.3  396.9   4.98  \n",
       "1     17.8  396.9   9.14  "
      ]
     },
     "execution_count": 8,
     "metadata": {},
     "output_type": "execute_result"
    }
   ],
   "source": [
    "boston = load_boston()\n",
    "df = pd.DataFrame(boston.data, columns=boston.feature_names)\n",
    "df.head(2)"
   ]
  },
  {
   "cell_type": "code",
   "execution_count": 9,
   "metadata": {},
   "outputs": [],
   "source": [
    "# test data を用意しとく\n",
    "# X, y は後で、クロスバリデーションのときに、train, validation セットになる\n",
    "X = df\n",
    "y = boston.target\n",
    "X, X_test, y, y_test = train_test_split(X, y, test_size=0.2, random_state=42)"
   ]
  },
  {
   "cell_type": "markdown",
   "metadata": {},
   "source": [
    "## set params"
   ]
  },
  {
   "cell_type": "code",
   "execution_count": 43,
   "metadata": {},
   "outputs": [],
   "source": [
    "# Configuration\n",
    "N_ESTIMATORS = 1000          # 最大学習回数\n",
    "VERBOSE = 300               # 300回ごとに評価する\n",
    "EARLY_STOPPING_ROUNDS = 200  # 200回の学習でよくならなければ、学習をとめる\n",
    "RANDOM_STATE = 42\n",
    "METRIC = mean_squared_error\n",
    "\n",
    "# lgb_params\n",
    "lgb_params = {'num_leaves': 51,\n",
    "          'min_child_samples': 30,\n",
    "          'objective': 'regression',\n",
    "          'max_depth': 9,\n",
    "          'learning_rate': 0.2,\n",
    "          \"boosting_type\": \"gbdt\",\n",
    "          \"subsample_freq\": 1,\n",
    "          \"subsample\": 0.9,\n",
    "          \"bagging_seed\": 11,\n",
    "          \"metric\": 'mse',\n",
    "          \"verbosity\": -1,\n",
    "          'reg_alpha': 0.1,\n",
    "          'reg_lambda': 0.3,\n",
    "          'colsample_bytree': 1.0\n",
    "         }"
   ]
  },
  {
   "cell_type": "markdown",
   "metadata": {},
   "source": [
    "## K-Fold"
   ]
  },
  {
   "cell_type": "markdown",
   "metadata": {},
   "source": [
    "**5 fold**"
   ]
  },
  {
   "cell_type": "code",
   "execution_count": 44,
   "metadata": {},
   "outputs": [
    {
     "name": "stdout",
     "output_type": "stream",
     "text": [
      "------------------\n",
      "- fold1\n",
      "Fold 1 started at Fri Jul 12 16:47:28 2019\n",
      "Training until validation scores don't improve for 200 rounds.\n",
      "[300]\ttraining's l2: 0.623574\tvalid_1's l2: 12.1495\n",
      "Early stopping, best iteration is:\n",
      "[181]\ttraining's l2: 1.45686\tvalid_1's l2: 11.6425\n",
      "------------------\n",
      "- fold2\n",
      "Fold 2 started at Fri Jul 12 16:47:29 2019\n",
      "Training until validation scores don't improve for 200 rounds.\n",
      "[300]\ttraining's l2: 0.554913\tvalid_1's l2: 12.6025\n",
      "Early stopping, best iteration is:\n",
      "[282]\ttraining's l2: 0.625971\tvalid_1's l2: 12.514\n",
      "------------------\n",
      "- fold3\n",
      "Fold 3 started at Fri Jul 12 16:47:29 2019\n",
      "Training until validation scores don't improve for 200 rounds.\n",
      "Early stopping, best iteration is:\n",
      "[45]\ttraining's l2: 6.42943\tvalid_1's l2: 8.53313\n",
      "------------------\n",
      "- fold4\n",
      "Fold 4 started at Fri Jul 12 16:47:29 2019\n",
      "Training until validation scores don't improve for 200 rounds.\n",
      "[300]\ttraining's l2: 0.504119\tvalid_1's l2: 16.801\n",
      "Early stopping, best iteration is:\n",
      "[147]\ttraining's l2: 1.55726\tvalid_1's l2: 16.1741\n",
      "------------------\n",
      "- fold5\n",
      "Fold 5 started at Fri Jul 12 16:47:29 2019\n",
      "Training until validation scores don't improve for 200 rounds.\n",
      "[300]\ttraining's l2: 0.552277\tvalid_1's l2: 17.9925\n",
      "Early stopping, best iteration is:\n",
      "[135]\ttraining's l2: 2.08817\tvalid_1's l2: 17.5434\n",
      "------------------\n",
      "====== finish ======\n",
      "score list: [11.642485620853021, 12.514007767750634, 8.533128632890696, 16.174086112469816, 17.543350695941093]\n",
      "CV mean score: 13.2814, std: 3.2358\n"
     ]
    }
   ],
   "source": [
    "n_folds = 5\n",
    "folds = KFold(n_splits=n_folds, shuffle=True)\n",
    "\n",
    "# init\n",
    "result_dict = {}\n",
    "oof = np.zeros(len(X))\n",
    "prediction = np.zeros(len(X_test))\n",
    "scores = []\n",
    "models = []\n",
    "feature_importance = pd.DataFrame()\n",
    "for fold_n, (train_idx, valid_idx) in enumerate(folds.split(X)):\n",
    "    print('------------------')\n",
    "    print(f'- fold{fold_n + 1}' )\n",
    "    print(f'Fold {fold_n + 1} started at {time.ctime()}')\n",
    "    X_train, X_valid = X.iloc[train_idx], X.iloc[valid_idx]\n",
    "    y_train, y_valid = y[train_idx], y[valid_idx]\n",
    "    \n",
    "    # Train the model\n",
    "    model = lgb.LGBMRegressor(**lgb_params, n_estimators=N_ESTIMATORS, n_jobs=-1)\n",
    "    model.fit(X_train, y_train,\n",
    "              eval_set=[(X_train, y_train), (X_valid, y_valid)],\n",
    "              verbose=VERBOSE,\n",
    "              early_stopping_rounds=EARLY_STOPPING_ROUNDS)\n",
    "    \n",
    "    # predict\n",
    "    y_valid_pred = model.predict(X_valid, num_iteration=model.best_iteration_)  \n",
    "    y_test_pred = model.predict(X_test)\n",
    "    \n",
    "    oof[valid_idx] = y_valid_pred.reshape(-1,)\n",
    "    scores.append(METRIC(y_valid, y_valid_pred))\n",
    "    \n",
    "    prediction += y_test_pred\n",
    "    \n",
    "    # feature_importance\n",
    "    fold_importance = pd.DataFrame()\n",
    "    fold_importance['feature'] = X.columns\n",
    "    fold_importance['importance'] = model.feature_importances_\n",
    "    fold_importance['fold'] = fold_n + 1\n",
    "    feature_importance = pd.concat([feature_importance, fold_importance], axis=0)\n",
    "\n",
    "# result\n",
    "prediction /= folds.n_splits\n",
    "feature_importance[\"importance\"] /= folds.n_splits\n",
    "result_dict['oof'] = oof\n",
    "result_dict['prediction'] = prediction\n",
    "result_dict['scores'] = scores\n",
    "result_dict['feature_importance'] = feature_importance\n",
    "\n",
    "\n",
    "print('------------------')\n",
    "print('====== finish ======')\n",
    "print('score list:', scores)\n",
    "print('CV mean score: {0:.4f}, std: {1:.4f}'.format(np.mean(scores), np.std(scores)))"
   ]
  },
  {
   "cell_type": "markdown",
   "metadata": {},
   "source": [
    "---> めっちゃ過学習してくるけど、まあいいや"
   ]
  },
  {
   "cell_type": "markdown",
   "metadata": {},
   "source": [
    "## plot feature importance"
   ]
  },
  {
   "cell_type": "code",
   "execution_count": 45,
   "metadata": {},
   "outputs": [
    {
     "name": "stderr",
     "output_type": "stream",
     "text": [
      "/usr/local/lib/python3.6/dist-packages/scipy/stats/stats.py:1713: FutureWarning: Using a non-tuple sequence for multidimensional indexing is deprecated; use `arr[tuple(seq)]` instead of `arr[seq]`. In the future this will be interpreted as an array index, `arr[np.array(seq)]`, which will result either in an error or a different result.\n",
      "  return np.add.reduce(sorted[indexer] * weights, axis=axis) / sumval\n"
     ]
    },
    {
     "data": {
      "image/png": "[encoded data removed]",
      "text/plain": [
       "<Figure size 1152x864 with 1 Axes>"
      ]
     },
     "metadata": {
      "needs_background": "light"
     },
     "output_type": "display_data"
    }
   ],
   "source": [
    "# top 50 features\n",
    "cols = feature_importance[[\"feature\", \"importance\"]].groupby(\"feature\").mean().sort_values(\n",
    "    by=\"importance\", ascending=False)[:50].index\n",
    "\n",
    "best_features = feature_importance.loc[feature_importance.feature.isin(cols)]\n",
    "\n",
    "plt.figure(figsize=(16, 12));\n",
    "sns.barplot(x=\"importance\", y=\"feature\", data=best_features.sort_values(by=\"importance\", ascending=False));\n",
    "plt.title('LGB Features (avg over folds)');\n"
   ]
  },
  {
   "cell_type": "code",
   "execution_count": null,
   "metadata": {},
   "outputs": [],
   "source": []
  },
  {
   "cell_type": "code",
   "execution_count": null,
   "metadata": {},
   "outputs": [],
   "source": []
  },
  {
   "cell_type": "code",
   "execution_count": null,
   "metadata": {},
   "outputs": [],
   "source": []
  },
  {
   "cell_type": "code",
   "execution_count": null,
   "metadata": {},
   "outputs": [],
   "source": []
  },
  {
   "cell_type": "code",
   "execution_count": null,
   "metadata": {},
   "outputs": [],
   "source": []
  },
  {
   "cell_type": "code",
   "execution_count": null,
   "metadata": {},
   "outputs": [],
   "source": []
  }
 ],
 "metadata": {
  "kernelspec": {
   "display_name": "Python 3",
   "language": "python",
   "name": "python3"
  },
  "language_info": {
   "codemirror_mode": {
    "name": "ipython",
    "version": 3
   },
   "file_extension": ".py",
   "mimetype": "text/x-python",
   "name": "python",
   "nbconvert_exporter": "python",
   "pygments_lexer": "ipython3",
   "version": "3.6.8"
  },
  "toc-autonumbering": true
 },
 "nbformat": 4,
 "nbformat_minor": 2
}
