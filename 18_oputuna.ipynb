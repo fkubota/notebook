{
 "cells": [
  {
   "cell_type": "markdown",
   "metadata": {},
   "source": [
    "# Overview\n",
    "- oputuna についての理解\n",
    "- suggestion の種類例\n",
    "    - `trial.suggest_categorical('kernel', ['linear', 'poly', 'rbf'])`\n",
    "    - `trial.suggest_discrete_uniform('subsample', 0.1, 1.0, 0.1)`\n",
    "    - `trial.suggest_int('n_estimators', 50, 400)`\n",
    "    - `trial.suggest_loguniform('c', 1e-5, 1e2)`\n",
    "    - `trial.suggest_uniform('dropout_rate', 0, 1.0)`"
   ]
  },
  {
   "cell_type": "markdown",
   "metadata": {},
   "source": [
    "# Import everything I need :)"
   ]
  },
  {
   "cell_type": "code",
   "execution_count": 15,
   "metadata": {},
   "outputs": [],
   "source": [
    "import warnings\n",
    "warnings.filterwarnings('ignore')\n",
    "import numpy as np\n",
    "import pandas as pd\n",
    "import matplotlib.pyplot as plt\n",
    "import optuna\n",
    "from sklearn.model_selection import train_test_split\n",
    "from sklearn.ensemble import RandomForestRegressor\n",
    "from sklearn.datasets import load_boston\n",
    "from sklearn.metrics import mean_absolute_error"
   ]
  },
  {
   "cell_type": "markdown",
   "metadata": {},
   "source": [
    "# Preparation"
   ]
  },
  {
   "cell_type": "code",
   "execution_count": 12,
   "metadata": {},
   "outputs": [],
   "source": [
    "boston = load_boston()\n",
    "df = pd.DataFrame(boston.data, columns=boston.feature_names)\n",
    "target = boston.target"
   ]
  },
  {
   "cell_type": "code",
   "execution_count": 13,
   "metadata": {},
   "outputs": [],
   "source": [
    "X = df\n",
    "y = target"
   ]
  },
  {
   "cell_type": "markdown",
   "metadata": {},
   "source": [
    "# Optuna"
   ]
  },
  {
   "cell_type": "code",
   "execution_count": 32,
   "metadata": {},
   "outputs": [],
   "source": [
    "# 最小化したい関数\n",
    "def objective(trial):\n",
    "    print('')\n",
    "    params = {'n_estimators': int(trial.suggest_loguniform('n_estimators', 10, 1000)),\n",
    "              'max_depth' : trial.suggest_int('max_depth', 5, 300)}\n",
    "    \n",
    "    X_train, X_valid, y_train, y_valid = train_test_split(X, y, test_size=0.33, random_state=42)\n",
    "    model = RandomForestRegressor(**params)\n",
    "    model.fit(X_train, y_train)\n",
    "    y_valid_pred = model.predict(X_valid)\n",
    "    return mean_absolute_error(y_valid, y_valid_pred)"
   ]
  },
  {
   "cell_type": "code",
   "execution_count": 33,
   "metadata": {},
   "outputs": [
    {
     "name": "stdout",
     "output_type": "stream",
     "text": [
      "\n"
     ]
    },
    {
     "name": "stderr",
     "output_type": "stream",
     "text": [
      "[I 2019-08-31 16:37:30,838] Finished trial#0 resulted in value: 2.140377309896336. Current best value is 2.140377309896336 with parameters: {'n_estimators': 93.7231482737355, 'max_depth': 24}.\n"
     ]
    },
    {
     "name": "stdout",
     "output_type": "stream",
     "text": [
      "\n"
     ]
    },
    {
     "name": "stderr",
     "output_type": "stream",
     "text": [
      "[I 2019-08-31 16:37:31,036] Finished trial#1 resulted in value: 2.1920558882235532. Current best value is 2.140377309896336 with parameters: {'n_estimators': 93.7231482737355, 'max_depth': 24}.\n"
     ]
    },
    {
     "name": "stdout",
     "output_type": "stream",
     "text": [
      "\n"
     ]
    },
    {
     "name": "stderr",
     "output_type": "stream",
     "text": [
      "[I 2019-08-31 16:37:32,982] Finished trial#2 resulted in value: 2.160350492880617. Current best value is 2.140377309896336 with parameters: {'n_estimators': 93.7231482737355, 'max_depth': 24}.\n"
     ]
    },
    {
     "name": "stdout",
     "output_type": "stream",
     "text": [
      "\n"
     ]
    },
    {
     "name": "stderr",
     "output_type": "stream",
     "text": [
      "[I 2019-08-31 16:37:33,198] Finished trial#3 resulted in value: 2.1931583641228176. Current best value is 2.140377309896336 with parameters: {'n_estimators': 93.7231482737355, 'max_depth': 24}.\n"
     ]
    },
    {
     "name": "stdout",
     "output_type": "stream",
     "text": [
      "\n"
     ]
    },
    {
     "name": "stderr",
     "output_type": "stream",
     "text": [
      "[I 2019-08-31 16:37:33,471] Finished trial#4 resulted in value: 2.183678796253646. Current best value is 2.140377309896336 with parameters: {'n_estimators': 93.7231482737355, 'max_depth': 24}.\n"
     ]
    },
    {
     "name": "stdout",
     "output_type": "stream",
     "text": [
      "\n"
     ]
    },
    {
     "name": "stderr",
     "output_type": "stream",
     "text": [
      "[I 2019-08-31 16:37:33,621] Finished trial#5 resulted in value: 2.2028143712574852. Current best value is 2.140377309896336 with parameters: {'n_estimators': 93.7231482737355, 'max_depth': 24}.\n"
     ]
    },
    {
     "name": "stdout",
     "output_type": "stream",
     "text": [
      "\n"
     ]
    },
    {
     "name": "stderr",
     "output_type": "stream",
     "text": [
      "[I 2019-08-31 16:37:33,784] Finished trial#6 resulted in value: 2.266575939031029. Current best value is 2.140377309896336 with parameters: {'n_estimators': 93.7231482737355, 'max_depth': 24}.\n"
     ]
    },
    {
     "name": "stdout",
     "output_type": "stream",
     "text": [
      "\n"
     ]
    },
    {
     "name": "stderr",
     "output_type": "stream",
     "text": [
      "[I 2019-08-31 16:37:33,944] Finished trial#7 resulted in value: 2.2367764471057887. Current best value is 2.140377309896336 with parameters: {'n_estimators': 93.7231482737355, 'max_depth': 24}.\n"
     ]
    },
    {
     "name": "stdout",
     "output_type": "stream",
     "text": [
      "\n"
     ]
    },
    {
     "name": "stderr",
     "output_type": "stream",
     "text": [
      "[I 2019-08-31 16:37:34,171] Finished trial#8 resulted in value: 2.183211758301579. Current best value is 2.140377309896336 with parameters: {'n_estimators': 93.7231482737355, 'max_depth': 24}.\n"
     ]
    },
    {
     "name": "stdout",
     "output_type": "stream",
     "text": [
      "\n"
     ]
    },
    {
     "name": "stderr",
     "output_type": "stream",
     "text": [
      "[I 2019-08-31 16:37:34,360] Finished trial#9 resulted in value: 2.2341317365269457. Current best value is 2.140377309896336 with parameters: {'n_estimators': 93.7231482737355, 'max_depth': 24}.\n"
     ]
    },
    {
     "name": "stdout",
     "output_type": "stream",
     "text": [
      "FrozenTrial(number=0, state=<TrialState.COMPLETE: 1>, value=2.140377309896336, datetime_start=datetime.datetime(2019, 8, 31, 16, 37, 29, 723213), datetime_complete=datetime.datetime(2019, 8, 31, 16, 37, 30, 837703), params={'n_estimators': 93.7231482737355, 'max_depth': 24}, distributions={'n_estimators': LogUniformDistribution(low=10, high=1000), 'max_depth': IntUniformDistribution(low=5, high=300)}, user_attrs={}, system_attrs={'_number': 0}, intermediate_values={}, params_in_internal_repr={'n_estimators': 93.7231482737355, 'max_depth': 24.0}, trial_id=0)\n",
      "\n",
      " best_params = {'n_estimators': 93.7231482737355, 'max_depth': 24}\n"
     ]
    }
   ],
   "source": [
    "# パラメータ探索\n",
    "study = optuna.create_study()\n",
    "study.optimize(objective, n_trials=10)\n",
    "print(study.best_trial)\n",
    "print(f'\\n best_params = {study.best_params}')"
   ]
  },
  {
   "cell_type": "code",
   "execution_count": null,
   "metadata": {},
   "outputs": [],
   "source": []
  }
 ],
 "metadata": {
  "kernelspec": {
   "display_name": "Python 3",
   "language": "python",
   "name": "python3"
  },
  "language_info": {
   "codemirror_mode": {
    "name": "ipython",
    "version": 3
   },
   "file_extension": ".py",
   "mimetype": "text/x-python",
   "name": "python",
   "nbconvert_exporter": "python",
   "pygments_lexer": "ipython3",
   "version": "3.6.8"
  }
 },
 "nbformat": 4,
 "nbformat_minor": 4
}
