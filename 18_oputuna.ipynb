{
 "cells": [
  {
   "cell_type": "markdown",
   "metadata": {},
   "source": [
    "# Overview\n",
    "- oputuna についての理解\n",
    "- suggestion の種類例\n",
    "    - `trial.suggest_categorical('kernel', ['linear', 'poly', 'rbf'])`\n",
    "    - `trial.suggest_discrete_uniform('subsample', 0.1, 1.0, 0.1)`\n",
    "    - `trial.suggest_int('n_estimators', 50, 400)`\n",
    "    - `trial.suggest_loguniform('c', 1e-5, 1e2)`\n",
    "    - `trial.suggest_uniform('dropout_rate', 0, 1.0)`"
   ]
  },
  {
   "cell_type": "markdown",
   "metadata": {},
   "source": [
    "# Import everything I need :)"
   ]
  },
  {
   "cell_type": "code",
   "execution_count": 15,
   "metadata": {},
   "outputs": [],
   "source": [
    "import warnings\n",
    "warnings.filterwarnings('ignore')\n",
    "import numpy as np\n",
    "import pandas as pd\n",
    "import matplotlib.pyplot as plt\n",
    "import optuna\n",
    "from sklearn.model_selection import train_test_split\n",
    "from sklearn.ensemble import RandomForestRegressor\n",
    "from sklearn.datasets import load_boston\n",
    "from sklearn.metrics import mean_absolute_error"
   ]
  },
  {
   "cell_type": "markdown",
   "metadata": {},
   "source": [
    "# Preparation"
   ]
  },
  {
   "cell_type": "code",
   "execution_count": 12,
   "metadata": {},
   "outputs": [],
   "source": [
    "boston = load_boston()\n",
    "df = pd.DataFrame(boston.data, columns=boston.feature_names)\n",
    "target = boston.target"
   ]
  },
  {
   "cell_type": "code",
   "execution_count": 13,
   "metadata": {},
   "outputs": [],
   "source": [
    "X = df\n",
    "y = target"
   ]
  },
  {
   "cell_type": "markdown",
   "metadata": {},
   "source": [
    "# Optuna"
   ]
  },
  {
   "cell_type": "code",
   "execution_count": 26,
   "metadata": {},
   "outputs": [],
   "source": [
    "# 最小化したい関数\n",
    "def objective(trial):\n",
    "    params = {'n_estimators': int(trial.suggest_loguniform('n_estimators', 10, 1000)),\n",
    "              'max_depth' : trial.suggest_int('max_depth', 5, 300)}\n",
    "    \n",
    "    X_train, X_valid, y_train, y_valid = train_test_split(X, y, test_size=0.33, random_state=42)\n",
    "    model = RandomForestRegressor(**params)\n",
    "    model.fit(X_train, y_train)\n",
    "    y_valid_pred = model.predict(X_valid)\n",
    "    return mean_absolute_error(y_valid, y_valid_pred)"
   ]
  },
  {
   "cell_type": "code",
   "execution_count": 31,
   "metadata": {},
   "outputs": [
    {
     "name": "stderr",
     "output_type": "stream",
     "text": [
      "[I 2019-08-31 15:07:21,025] Finished trial#0 resulted in value: 2.1741219294578995. Current best value is 2.1741219294578995 with parameters: {'n_estimators': 273.06962577327, 'max_depth': 14}.\n",
      "[I 2019-08-31 15:07:21,739] Finished trial#1 resulted in value: 2.1502286883519433. Current best value is 2.1502286883519433 with parameters: {'n_estimators': 398.4130008331471, 'max_depth': 271}.\n",
      "[I 2019-08-31 15:07:22,504] Finished trial#2 resulted in value: 2.157245225189436. Current best value is 2.1502286883519433 with parameters: {'n_estimators': 398.4130008331471, 'max_depth': 271}.\n",
      "[I 2019-08-31 15:07:22,773] Finished trial#3 resulted in value: 2.088108398587439. Current best value is 2.088108398587439 with parameters: {'n_estimators': 78.0800124243684, 'max_depth': 187}.\n",
      "[I 2019-08-31 15:07:22,969] Finished trial#4 resulted in value: 2.1681565440547486. Current best value is 2.088108398587439 with parameters: {'n_estimators': 78.0800124243684, 'max_depth': 187}.\n",
      "[I 2019-08-31 15:07:23,147] Finished trial#5 resulted in value: 2.1763473053892213. Current best value is 2.088108398587439 with parameters: {'n_estimators': 78.0800124243684, 'max_depth': 187}.\n",
      "[I 2019-08-31 15:07:23,430] Finished trial#6 resulted in value: 2.182763505247569. Current best value is 2.088108398587439 with parameters: {'n_estimators': 78.0800124243684, 'max_depth': 187}.\n",
      "[I 2019-08-31 15:07:23,901] Finished trial#7 resulted in value: 2.1566594965408994. Current best value is 2.088108398587439 with parameters: {'n_estimators': 78.0800124243684, 'max_depth': 187}.\n",
      "[I 2019-08-31 15:07:24,214] Finished trial#8 resulted in value: 2.1060507556315935. Current best value is 2.088108398587439 with parameters: {'n_estimators': 78.0800124243684, 'max_depth': 187}.\n",
      "[I 2019-08-31 15:07:24,611] Finished trial#9 resulted in value: 2.146065516026768. Current best value is 2.088108398587439 with parameters: {'n_estimators': 78.0800124243684, 'max_depth': 187}.\n"
     ]
    },
    {
     "name": "stdout",
     "output_type": "stream",
     "text": [
      "FrozenTrial(number=3, state=<TrialState.COMPLETE: 1>, value=2.088108398587439, datetime_start=datetime.datetime(2019, 8, 31, 15, 7, 22, 508187), datetime_complete=datetime.datetime(2019, 8, 31, 15, 7, 22, 772324), params={'n_estimators': 78.0800124243684, 'max_depth': 187}, distributions={'n_estimators': LogUniformDistribution(low=10, high=1000), 'max_depth': IntUniformDistribution(low=5, high=300)}, user_attrs={}, system_attrs={'_number': 3}, intermediate_values={}, params_in_internal_repr={'n_estimators': 78.0800124243684, 'max_depth': 187.0}, trial_id=3)\n",
      "\n",
      " best_params = {'n_estimators': 78.0800124243684, 'max_depth': 187}\n"
     ]
    }
   ],
   "source": [
    "# パラメータ探索\n",
    "study = optuna.create_study()\n",
    "study.optimize(objective, n_trials=10)\n",
    "print(study.best_trial)\n",
    "print(f'\\n best_params = {study.best_params}')"
   ]
  },
  {
   "cell_type": "code",
   "execution_count": null,
   "metadata": {},
   "outputs": [],
   "source": []
  }
 ],
 "metadata": {
  "kernelspec": {
   "display_name": "Python 3",
   "language": "python",
   "name": "python3"
  },
  "language_info": {
   "codemirror_mode": {
    "name": "ipython",
    "version": 3
   },
   "file_extension": ".py",
   "mimetype": "text/x-python",
   "name": "python",
   "nbconvert_exporter": "python",
   "pygments_lexer": "ipython3",
   "version": "3.6.8"
  }
 },
 "nbformat": 4,
 "nbformat_minor": 4
}
