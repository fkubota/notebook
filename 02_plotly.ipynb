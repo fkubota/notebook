{
 "cells": [
  {
   "cell_type": "code",
   "execution_count": 9,
   "metadata": {},
   "outputs": [],
   "source": [
    "import plotly.offline as offline\n",
    "from plotly.offline import download_plotlyjs, init_notebook_mode, plot, iplot\n",
    "import numpy as np\n",
    "import plotly.graph_objs as go"
   ]
  },
  {
   "cell_type": "markdown",
   "metadata": {},
   "source": [
    "# 2D"
   ]
  },
  {
   "cell_type": "code",
   "execution_count": 12,
   "metadata": {},
   "outputs": [
    {
     "name": "stderr",
     "output_type": "stream",
     "text": [
      "/home/fkubota/Env/envFAST-D/lib/python3.6/site-packages/plotly/offline/offline.py:654: UserWarning:\n",
      "\n",
      "Your filename `basic-line` didn't end with .html. Adding .html to the end of your file.\n",
      "\n"
     ]
    },
    {
     "data": {
      "text/plain": [
       "'file:///home/fkubota/Git/notebook/basic-line.html'"
      ]
     },
     "execution_count": 12,
     "metadata": {},
     "output_type": "execute_result"
    }
   ],
   "source": [
    "# 以下の2つをインポート\n",
    "import plotly.offline as offline\n",
    "import plotly.graph_objs as go\n",
    "\n",
    "trace0 = go.Scatter(\n",
    "x=[1, 2, 3, 4],\n",
    "y=[10, 15, 13, 17]\n",
    ")\n",
    "trace1 = go.Scatter(\n",
    "x=[1, 2, 3, 4],\n",
    "y=[16, 5, 11, 10]\n",
    ")\n",
    "data = [trace0, trace1]\n",
    "\n",
    "# オフラインでプロット\n",
    "offline.plot(data, filename = 'basic-line', auto_open=True)"
   ]
  },
  {
   "cell_type": "markdown",
   "metadata": {},
   "source": [
    "# 3D"
   ]
  },
  {
   "cell_type": "code",
   "execution_count": 11,
   "metadata": {},
   "outputs": [
    {
     "name": "stderr",
     "output_type": "stream",
     "text": [
      "/home/fkubota/Env/envFAST-D/lib/python3.6/site-packages/plotly/offline/offline.py:654: UserWarning:\n",
      "\n",
      "Your filename `tsne_example` didn't end with .html. Adding .html to the end of your file.\n",
      "\n"
     ]
    },
    {
     "data": {
      "text/plain": [
       "'file:///home/fkubota/Git/notebook/tsne_example.html'"
      ]
     },
     "execution_count": 11,
     "metadata": {},
     "output_type": "execute_result"
    }
   ],
   "source": [
    "x = np.linspace(0, 10, 100000)\n",
    "y = np.sin(x)\n",
    "z = np.exp(-(x**2 + y**2))\n",
    "\n",
    "# 3Dの散布図が作れるScatter3dを使います．\n",
    "trace1 = go.Scatter3d(\n",
    "    x=x,\n",
    "    y=y,\n",
    "    z=z,\n",
    "    mode='markers',\n",
    "    marker=dict(\n",
    "        sizemode='diameter',\n",
    "#         color = preprocessing.LabelEncoder().fit_transform(obj_ls),\n",
    "        colorscale = 'Portland',\n",
    "        line=dict(color='rgb(255, 255, 255)'),\n",
    "        opacity=0.9,\n",
    "        size=2 # ごちゃごちゃしないように小さめに設定するのがオススメです．\n",
    "    )\n",
    ")\n",
    "\n",
    "data=[trace1]\n",
    "layout=dict(height=700, width=600, title='coil-20 tsne exmaple')\n",
    "fig=dict(data=data, layout=layout)\n",
    "\n",
    "offline.plot(fig, filename='tsne_example')\n",
    "# offline.iplot(fig, filename='tsne_example')"
   ]
  },
  {
   "cell_type": "code",
   "execution_count": null,
   "metadata": {},
   "outputs": [],
   "source": []
  }
 ],
 "metadata": {
  "kernelspec": {
   "display_name": "envFAST-D",
   "language": "python",
   "name": "envfast-d"
  },
  "language_info": {
   "codemirror_mode": {
    "name": "ipython",
    "version": 3
   },
   "file_extension": ".py",
   "mimetype": "text/x-python",
   "name": "python",
   "nbconvert_exporter": "python",
   "pygments_lexer": "ipython3",
   "version": "3.6.7"
  }
 },
 "nbformat": 4,
 "nbformat_minor": 2
}
